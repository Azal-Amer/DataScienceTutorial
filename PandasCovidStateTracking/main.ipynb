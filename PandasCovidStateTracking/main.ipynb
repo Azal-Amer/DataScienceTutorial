{
 "cells": [
  {
   "cell_type": "code",
   "execution_count": 5,
   "source": [
    "# Take the input date, and turn it into a list\r\n",
    "monthdaycount = [31,28,31,30,31,30,31,31,30,31,30,31]\r\n",
    "leapmonthdaycount = [31,29,31,30,31,30,31,31,30,31,30,31]\r\n",
    "\r\n",
    "# REMEMBER 2020 WAS A LEAP YEAR, IDIOT\r\n",
    "# Start date is 4-12-2020\r\n",
    "def dateCounter(date):\r\n",
    "    dateCount = 0\r\n",
    "    arrdate = [int(i) for i in date.split('-')]\r\n",
    "    if arrdate[2]>2020:\r\n",
    "        dateCount+=(arrdate[2]-2020)*366\r\n",
    "        # 366 at least have passed since 1-1-2020, so add that here, its a leap year\r\n",
    "    for i in range(arrdate[0]-1):\r\n",
    "        dateCount+=monthdaycount[i]\r\n",
    "    dateCount+=arrdate[1]\r\n",
    "    return dateCount\r\n",
    "# Curreny objective, get days since Jan 1st 2020\r\n",
    "# DOESNT WORK WITH LEAP YEARS\r\n",
    "def dateCounterReverse(dateCount):\r\n",
    "    arrDate=[1,1,2020]\r\n",
    "    activeMonths = []\r\n",
    "    if dateCount>366:\r\n",
    "        dateCount-=366\r\n",
    "        arrDate[2]+=1\r\n",
    "        # 366 at least have passed since 1-1-2020, so add that here, its a leap year\r\n",
    "    if(arrDate[2]%4==0):\r\n",
    "        activeMonths = leapmonthdaycount\r\n",
    "        \r\n",
    "    else:\r\n",
    "        activeMonths = monthdaycount\r\n",
    "    for i in range(len(activeMonths)-1):\r\n",
    "\r\n",
    "        if(dateCount-activeMonths[arrDate[0]-1]>0):\r\n",
    "            dateCount-=activeMonths[arrDate[0]-1]\r\n",
    "            # print(\"the max day for month \" + str(i) + \" is \" + str(activeMonths[arrDate[0]-1]))\r\n",
    "            arrDate[0]+=1\r\n",
    "        # Error here in month day counting, this was iterating through i, even when you couldn't subtract the given month's number of days, use the month number stored in the arrDate cause that's the current month\r\n",
    "            # If the date can be subtracted from a given month, do so\r\n",
    "    arrDate[1]+=dateCount-1\r\n",
    "    for j in range(len(arrDate)):\r\n",
    "        # if len(str(arrDate[j-1]))<=1:\r\n",
    "        #     arrDate[j-1] = '0'+ str(arrDate[j-1])\r\n",
    "        # else:\r\n",
    "        arrDate[j-1] = str(arrDate[j-1])\r\n",
    "    return arrDate\r\n",
    "# Curreny objective Takes the number of days since a given event, and returns the date it occured\r\n",
    "# DOESNT WORK WITH LEAP YEARS, OR FOR 2022,EXPIRES 1-1-2022\r\n"
   ],
   "outputs": [],
   "metadata": {}
  },
  {
   "cell_type": "markdown",
   "source": [
    "# Date Counting Functions\r\n",
    "## Introduction\r\n",
    "* One of the most important ways to look through a given set of data to analyze it, is to have some way to iterate through your data. The largest issues with counting with days is that dates are often deliniated in a non-base 10 format, meaning there needs to be some sort of method for translating a given date, into a base 10 number.\r\n",
    "## Input Converter\r\n",
    "* The best way I could find to convert dates to the correct integer form was to add up the whole number of months* the number of days per month, add the number of whole number of years * the days per year, and then add the day. From here the function would return the number of days since a defined origin point.\r\n",
    "* Thankfully the process designed to count the number of days between two dates, was a two way process. Simply input the iterator into the function, check if it is greater than 366. If it is, add one year to the year array. From there, go through the month count array and check if the selected month is greater than the current number, each time it adds to the month value and subtracts the number of days to the counter. This process repeats until the loop has gone through every month that is greater than our number. The remainder after this process is thus the day value.\r\n",
    "## Testing for accuracy\r\n",
    "* The best part of the reversible nature of this function, is you can plug one function into the other, and your input should equal the output. Upon testing this held true, meaning the functions work identically"
   ],
   "metadata": {}
  },
  {
   "cell_type": "code",
   "execution_count": 6,
   "source": [
    "import pandas as pd\r\n",
    "print(dateCounter('9-13-2021')-dateCounter('1-22-2020'))\r\n",
    "\r\n",
    "covidDf = pd.read_csv('Data.csv')"
   ],
   "outputs": [
    {
     "output_type": "stream",
     "name": "stdout",
     "text": [
      "600\n"
     ]
    }
   ],
   "metadata": {}
  },
  {
   "cell_type": "code",
   "execution_count": 7,
   "source": [
    "def stateCases(state):\r\n",
    "    date = '09-10-2021'\r\n",
    "    stateArr = []\r\n",
    "    yVals = []\r\n",
    "    covidDF = covidDf[covidDf['state'].str.contains(state)]\r\n",
    "    for i in range(dateCounter(date)-102):\r\n",
    "        dateArr=dateCounterReverse(i+103)\r\n",
    "        dateStr = str(dateArr[0])+'/'+str(dateArr[1])+'/'+str(dateArr[2])\r\n",
    "        covidCount= (covidDF[covidDF['submission_date'].str.contains(dateStr)])\r\n",
    "        stateArr.append(int(list(covidCount['new_case'])[0].replace(',','')))\r\n",
    "        yVals.append(i)\r\n",
    "    return stateArr, yVals"
   ],
   "outputs": [],
   "metadata": {}
  },
  {
   "cell_type": "code",
   "execution_count": 8,
   "source": [
    "import numpy as np\r\n",
    "def stateCasesMedian(state):\r\n",
    "    date = '09-10-2021'\r\n",
    "    stateArr = []\r\n",
    "    yVals = []\r\n",
    "    medianArr = []\r\n",
    "    covidDF = covidDf[covidDf['state'].str.contains(state)]\r\n",
    "    for i in range(dateCounter(date)-102):\r\n",
    "        dateArr=dateCounterReverse(i+103)\r\n",
    "        dateStr = str(dateArr[0])+'/'+str(dateArr[1])+'/'+str(dateArr[2])\r\n",
    "        covidCount= (covidDF[covidDF['submission_date'].str.contains(dateStr)])\r\n",
    "        stateArr.append(int(list(covidCount['new_case'])[0].replace(',','')))\r\n",
    "        yVals.append(i)\r\n",
    "    for i in range(len(stateArr)):\r\n",
    "        if len(stateArr)-i> 7:\r\n",
    "            medianTemp = stateArr[i:i+7]\r\n",
    "            medianArr.append([np.median(medianTemp),i+3.5])\r\n",
    "            i+=7\r\n",
    "        else:\r\n",
    "            medianTemp = stateArr[i::]\r\n",
    "            medianArr.append([np.median(medianTemp),i+((len(stateArr)-i)/2)])\r\n",
    "    return medianArr"
   ],
   "outputs": [],
   "metadata": {}
  },
  {
   "cell_type": "code",
   "execution_count": 9,
   "source": [
    "def stateCasesAverage(state):\r\n",
    "    date = '09-10-2021'\r\n",
    "    stateArr = []\r\n",
    "    yVals = []\r\n",
    "    averageArr = []\r\n",
    "    covidDF = covidDf[covidDf['state'].str.contains(state)]\r\n",
    "    for i in range(dateCounter(date)-102):\r\n",
    "        dateArr=dateCounterReverse(i+103)\r\n",
    "        dateStr = str(dateArr[0])+'/'+str(dateArr[1])+'/'+str(dateArr[2])\r\n",
    "        covidCount= (covidDF[covidDF['submission_date'].str.contains(dateStr)])\r\n",
    "        stateArr.append(int(list(covidCount['new_case'])[0].replace(',','')))\r\n",
    "        yVals.append(i)\r\n",
    "    for i in range(len(stateArr)):\r\n",
    "        if len(stateArr)-i> 7:\r\n",
    "            averageTemp = stateArr[i:i+7]\r\n",
    "            averageArr.append([np.average(averageTemp),i+3.5])\r\n",
    "            i+=7\r\n",
    "        else:\r\n",
    "            averageTemp = stateArr[i::]\r\n",
    "            averageArr.append([np.median(averageTemp),i+((len(stateArr)-i)/2)])\r\n",
    "    return averageArr"
   ],
   "outputs": [],
   "metadata": {}
  },
  {
   "cell_type": "markdown",
   "source": [
    "# Collecting the Data\r\n",
    "### As mentioned in the previous markdown, this loop will loop through a given start and end date range. Inside the loop the given iterator is imported into the date converter, which returns a string date. From there the CDC covid dataframe is searched by each row to see which ones contrain the queried state, then the date string, and from here you search the outputted df row for your requested piece of data, in this case the daily new cases.\r\n",
    "\r\n",
    "## The below code simply takes a given state, and plots the different data sets through the weekly average, median, and a background scatterplot of true case numbers"
   ],
   "metadata": {}
  },
  {
   "cell_type": "code",
   "execution_count": 21,
   "source": [
    "import matplotlib.pyplot as ply\r\n",
    "state = 'CA'\r\n",
    "ply.scatter(stateCases(state)[1],stateCases(state)[0],color = 'grey')\r\n",
    "ply.plot(stateCasesAverage(state),color = 'r')\r\n",
    "ply.plot(stateCasesMedian(state),color = 'b')\r\n",
    "\r\n",
    "# Add ma\r\n"
   ],
   "outputs": [
    {
     "output_type": "execute_result",
     "data": {
      "text/plain": [
       "[<matplotlib.lines.Line2D at 0x1f6d8e1d520>,\n",
       " <matplotlib.lines.Line2D at 0x1f6d8e1d490>]"
      ]
     },
     "metadata": {},
     "execution_count": 21
    },
    {
     "output_type": "display_data",
     "data": {
      "image/png": "[encoded data removed]",
      "text/plain": [
       "<Figure size 432x288 with 1 Axes>"
      ]
     },
     "metadata": {
      "needs_background": "light"
     }
    }
   ],
   "metadata": {}
  },
  {
   "cell_type": "markdown",
   "source": [
    "# Multivariate Curve Fitting"
   ],
   "metadata": {}
  },
  {
   "cell_type": "markdown",
   "source": [
    "### The below code uses the Scipi library to calculate a 8th degree polynomial that represents the best fit curve of the data, stored into y_line. The program then additionally calculates the derivative of this curve, and stores its y values into y_deriv."
   ],
   "metadata": {}
  },
  {
   "cell_type": "code",
   "execution_count": 24,
   "source": [
    "from scipy.optimize import curve_fit\r\n",
    "from numpy import arange \r\n",
    "import numpy as np\r\n",
    "def objective(x, a, b, c,d,e,f,g,h,i):\r\n",
    "\treturn a * x + b * x**2 + c*x**3 +d*x**4 +e*x**5 +f*x**6 +g*x**7+h*x**8 +i\r\n",
    "def derivative(x, a, b, c,d,e,f,g,h,i):\r\n",
    "        return a + 2* b * x + 3*c*x**2 +4*d*x**3 +5*e*x**4 +6*f*x**5 +7*g*x**6 + 8*h*x**7\r\n",
    "state = 'CA'\r\n",
    "def zeroFinder(state):\r\n",
    "    x=[]\r\n",
    "    y = []\r\n",
    "    localMaxima = []\r\n",
    "    localMinima = []\r\n",
    "    j,k = 0,0\r\n",
    "    casesData = stateCasesAverage(state)\r\n",
    "    for i in range(len(casesData)):\r\n",
    "        y.append(casesData[i][0])\r\n",
    "        x.append(casesData[i][1])\r\n",
    "    popt, _ = curve_fit(objective, x, y)\r\n",
    "    a,b,c,d,e,f,g,h,i = popt\r\n",
    "    coeff = [a,2*b,3*c,4*d,5*e,6*f,7*g,8*h]\r\n",
    "    zeroes = np.poly1d(list(reversed(coeff)))\r\n",
    "    roots = zeroes.r\r\n",
    "    for i in range(roots.shape[0]):\r\n",
    "        roots[i] = int(roots[i])\r\n",
    "        if derivative(roots[i]-5, a, b, c,d,e,f,g,h,i) >0: \r\n",
    "            localMaxima.append(int(roots[i]))\r\n",
    "        if derivative(roots[i]+5, a, b, c,d,e,f,g,h,i) >0: \r\n",
    "            localMinima.append(int(roots[i]))\r\n",
    "    x_line = arange(min(x), max(x), .01)\r\n",
    "    y_line = objective(x_line, a, b, c,d,e,f,g,h,i)\r\n",
    "    print('The polynomials equation is : y = %.5f * x + %.5f * x^2 + %.5f *x^3 +%.5f * x^4 + %.5f * x^5 +  %.5f *x^6 +%.5f * x^7 + %.5f * x^8 + %.5f '  % (a, b, c,d,e,f,g,h,i))\r\n",
    "    x_deriv = arange(min(x), max(x), .01)\r\n",
    "    y_deriv = derivative(x_line, a, b, c,d,e,f,g,h,i)\r\n",
    "    # ### The below code then stores the calculated polynomial coefficients into a list, and converts it into a numpy 1 dimensional polynomial datatype. From there numpy has a built in zeroes function that will calculate the roots. \r\n",
    "    localMaxima  = list(set(localMaxima))\r\n",
    "    localMinima  = list(set(localMinima))\r\n",
    "\r\n",
    "    return roots,localMaxima,localMinima,x,y\r\n",
    "\r\n",
    "stateAnalysis = zeroFinder(state)\r\n",
    "\r\n"
   ],
   "outputs": [
    {
     "output_type": "stream",
     "name": "stdout",
     "text": [
      "The polynomials equation is : y = -1736.47097 * x + 66.67494 * x^2 + -1.01514 *x^3 +0.00765 * x^4 + -0.00003 * x^5 +  0.00000 *x^6 +-0.00000 * x^7 + 0.00000 * x^8 + 6.00000 \n"
     ]
    }
   ],
   "metadata": {}
  },
  {
   "cell_type": "markdown",
   "source": [
    "### Python's built in int() function severes imaginary components, so the range of the lists first dimention's length is iterated through to remove the imaginary pieces. Everything is then split into two graphs, and plotted. The red lines indicate a local maxima, while the blue indicate a minima"
   ],
   "metadata": {}
  },
  {
   "cell_type": "code",
   "execution_count": 25,
   "source": [
    "# fig, axs = ply.subplots(2)\r\n",
    "import matplotlib.patches as mpatches\r\n",
    "import matplotlib.lines as mlines\r\n",
    "ply.plot(x, y,color = 'red', label = '7 Day Average')\r\n",
    "ply.scatter(stateCases(state)[1],stateCases(state)[0],color = 'pink', label = 'Daily cases')\r\n",
    "\r\n",
    "# ply.plot(x_line, y_line, '--', color='pink')\r\n",
    "# axs[1].plot(x_deriv, y_deriv, '--', color='blue')\r\n",
    "\r\n",
    "ply.title(state + ' COVID-19 cases ')\r\n",
    "localMaxima = []\r\n",
    "localMinima = []\r\n",
    "x = stateAnalysis[3]\r\n",
    "y = stateAnalysis[4]\r\n",
    "j=0\r\n",
    "k= 0 \r\n",
    "for i in range(roots.shape[0]):\r\n",
    "    roots[i] = int(roots[i])\r\n",
    "\r\n",
    "    if derivative(roots[i]-5, a, b, c,d,e,f,g,h,i) >0: \r\n",
    "        localMaxima.append(int(roots[i]))\r\n",
    "        ply.axvline(x=localMaxima[j],color = 'black')\r\n",
    "        # axs[1].axvline(x=localMaxima[j],color = 'r')\r\n",
    "        j+=1\r\n",
    "    if derivative(roots[i]+5, a, b, c,d,e,f,g,h,i) >0: \r\n",
    "        localMinima.append(int(roots[i]))\r\n",
    "        ply.axvline(x=localMinima[k],color = 'grey')\r\n",
    "        # axs[1].axvline(x=localMinima[k],color = 'b')\r\n",
    "        k+=1\r\n",
    "localMaxima  = list(set(localMaxima))\r\n",
    "localMinima  = list(set(localMinima))\r\n",
    "\r\n",
    "# Deleting doubles\r\n",
    "print(localMaxima)\r\n",
    "black_patch = mpatches.Patch(color='black', label='Peak Wave')\r\n",
    "grey_patch = mpatches.Patch(color='grey', label='Minimum Dip')\r\n",
    "red_line = mlines.Line2D([], [], color='red', markersize=15, label='7 Day Average')\r\n",
    "pink_dots = mlines.Line2D([], [], color='pink',marker ='.', markersize=15, label='Daily Cases')\r\n",
    "ply.legend(loc=\"upper left\",handles=[red_line,pink_dots,black_patch,grey_patch])\r\n",
    "ply.xlabel(\"Days Since First Track\")\r\n",
    "ply.ylabel(\"Daily Cases\")\r\n",
    "ply.show()\r\n"
   ],
   "outputs": [
    {
     "output_type": "error",
     "ename": "NameError",
     "evalue": "name 'x' is not defined",
     "traceback": [
      "\u001b[1;31m---------------------------------------------------------------------------\u001b[0m",
      "\u001b[1;31mNameError\u001b[0m                                 Traceback (most recent call last)",
      "\u001b[1;32m<ipython-input-25-0c13514a2cac>\u001b[0m in \u001b[0;36m<module>\u001b[1;34m\u001b[0m\n\u001b[0;32m      2\u001b[0m \u001b[1;32mimport\u001b[0m \u001b[0mmatplotlib\u001b[0m\u001b[1;33m.\u001b[0m\u001b[0mpatches\u001b[0m \u001b[1;32mas\u001b[0m \u001b[0mmpatches\u001b[0m\u001b[1;33m\u001b[0m\u001b[1;33m\u001b[0m\u001b[0m\n\u001b[0;32m      3\u001b[0m \u001b[1;32mimport\u001b[0m \u001b[0mmatplotlib\u001b[0m\u001b[1;33m.\u001b[0m\u001b[0mlines\u001b[0m \u001b[1;32mas\u001b[0m \u001b[0mmlines\u001b[0m\u001b[1;33m\u001b[0m\u001b[1;33m\u001b[0m\u001b[0m\n\u001b[1;32m----> 4\u001b[1;33m \u001b[0mply\u001b[0m\u001b[1;33m.\u001b[0m\u001b[0mplot\u001b[0m\u001b[1;33m(\u001b[0m\u001b[0mx\u001b[0m\u001b[1;33m,\u001b[0m \u001b[0my\u001b[0m\u001b[1;33m,\u001b[0m\u001b[0mcolor\u001b[0m \u001b[1;33m=\u001b[0m \u001b[1;34m'red'\u001b[0m\u001b[1;33m,\u001b[0m \u001b[0mlabel\u001b[0m \u001b[1;33m=\u001b[0m \u001b[1;34m'7 Day Average'\u001b[0m\u001b[1;33m)\u001b[0m\u001b[1;33m\u001b[0m\u001b[1;33m\u001b[0m\u001b[0m\n\u001b[0m\u001b[0;32m      5\u001b[0m \u001b[0mply\u001b[0m\u001b[1;33m.\u001b[0m\u001b[0mscatter\u001b[0m\u001b[1;33m(\u001b[0m\u001b[0mstateCases\u001b[0m\u001b[1;33m(\u001b[0m\u001b[0mstate\u001b[0m\u001b[1;33m)\u001b[0m\u001b[1;33m[\u001b[0m\u001b[1;36m1\u001b[0m\u001b[1;33m]\u001b[0m\u001b[1;33m,\u001b[0m\u001b[0mstateCases\u001b[0m\u001b[1;33m(\u001b[0m\u001b[0mstate\u001b[0m\u001b[1;33m)\u001b[0m\u001b[1;33m[\u001b[0m\u001b[1;36m0\u001b[0m\u001b[1;33m]\u001b[0m\u001b[1;33m,\u001b[0m\u001b[0mcolor\u001b[0m \u001b[1;33m=\u001b[0m \u001b[1;34m'pink'\u001b[0m\u001b[1;33m,\u001b[0m \u001b[0mlabel\u001b[0m \u001b[1;33m=\u001b[0m \u001b[1;34m'Daily cases'\u001b[0m\u001b[1;33m)\u001b[0m\u001b[1;33m\u001b[0m\u001b[1;33m\u001b[0m\u001b[0m\n\u001b[0;32m      6\u001b[0m \u001b[1;33m\u001b[0m\u001b[0m\n",
      "\u001b[1;31mNameError\u001b[0m: name 'x' is not defined"
     ]
    }
   ],
   "metadata": {}
  },
  {
   "cell_type": "markdown",
   "source": [
    "### Printing out peak days in date below"
   ],
   "metadata": {}
  },
  {
   "cell_type": "code",
   "execution_count": null,
   "source": [
    "for i in range(len(localMaxima)):\r\n",
    "    localMaxima[i] = dateCounterReverse(localMaxima[i])\r\n",
    "    convert = str(localMaxima[i][0])+'/'+str(localMaxima[i][1])+'/'+str(localMaxima[i][2])\r\n",
    "    localMaxima[i] = convert\r\n",
    "for i in range(len(localMinima)):\r\n",
    "    localMinima[i] = dateCounterReverse(localMinima[i])\r\n",
    "    convert = str(localMinima[i][0])+'/'+str(localMinima[i][1])+'/'+str(localMinima[i][2])\r\n",
    "    localMinima[i] = convert\r\n",
    "print(localMaxima)\r\n",
    "print(localMinima)"
   ],
   "outputs": [
    {
     "output_type": "stream",
     "name": "stdout",
     "text": [
      "['3/16/2020', '4/14/2021', '9/18/2020']\n",
      "['5/23/2020', '1/19/2021', '1/21/2020', '5/16/2021']\n"
     ]
    }
   ],
   "metadata": {}
  },
  {
   "cell_type": "markdown",
   "source": [
    "# Combining Into one useful funciton\r\n",
    "### The below code is the above notation, all combined into one easy to access function"
   ],
   "metadata": {}
  },
  {
   "cell_type": "code",
   "execution_count": null,
   "source": [
    "def plotStateInfo(state):\r\n",
    "    x=[]\r\n",
    "    y = []\r\n",
    "    casesData = stateCasesAverage(state)\r\n",
    "    for i in range(len(casesData)):\r\n",
    "        y.append(casesData[i][0])\r\n",
    "        x.append(casesData[i][1])\r\n",
    "    popt, _ = curve_fit(objective, x, y)\r\n",
    "    a,b,c,d,e,f,g,h,i = popt\r\n",
    "\r\n",
    "    x_line = arange(min(x), max(x), .01)\r\n",
    "    y_line = objective(x_line, a, b, c,d,e,f,g,h,i)\r\n",
    "    print('The polynomials equation is : y = %.5f * x + %.5f * x^2 + %.5f *x^3 +%.5f * x^4 + %.5f * x^5 +  %.5f *x^6 +%.5f * x^7 + %.5f * x^8 + %.5f '  % (a, b, c,d,e,f,g,h,i))\r\n",
    "    x_deriv = arange(min(x), max(x), .01)\r\n",
    "    y_deriv = derivative(x_line, a, b, c,d,e,f,g,h,i)\r\n",
    "    \r\n",
    "    ply.plot(x, y,color = 'red', label = '7 Day Average')\r\n",
    "    ply.scatter(stateCases(state)[1],stateCases(state)[0],color = 'pink', label = 'Daily cases')\r\n",
    "\r\n",
    "    # ply.plot(x_line, y_line, '--', color='pink')\r\n",
    "    # axs[1].plot(x_deriv, y_deriv, '--', color='blue')\r\n",
    "    coeff = [a,2*b,3*c,4*d,5*e,6*f,7*g,8*h]\r\n",
    "    zeroes = np.poly1d(list(reversed(coeff)))\r\n",
    "    roots = zeroes.r\r\n",
    "\r\n",
    "    ply.title(state + ' COVID-19 cases ')\r\n",
    "    localMaxima = []\r\n",
    "    localMinima = []\r\n",
    "    j=0\r\n",
    "    k= 0 \r\n",
    "    numberOfDays = len(stateCases(state)[0])\r\n",
    "    for i in range(roots.shape[0]):\r\n",
    "        roots[i] = int(roots[i])\r\n",
    "\r\n",
    "        if derivative(roots[i]-5, a, b, c,d,e,f,g,h,i) >0 and 0 < roots [i] and roots[i]< numberOfDays: \r\n",
    "            localMaxima.append(int(roots[i]))\r\n",
    "            ply.axvline(x=localMaxima[j],color = 'black')\r\n",
    "            # axs[1].axvline(x=localMaxima[j],color = 'r')\r\n",
    "            j+=1\r\n",
    "        if derivative(roots[i]+5, a, b, c,d,e,f,g,h,i) >0 and 0 < roots [i] and roots[i] < numberOfDays: \r\n",
    "            localMinima.append(int(roots[i]))\r\n",
    "            ply.axvline(x=localMinima[k],color = 'grey')\r\n",
    "            # axs[1].axvline(x=localMinima[k],color = 'b')\r\n",
    "            k+=1\r\n",
    "    localMaxima  = list(set(localMaxima))\r\n",
    "    localMinima  = list(set(localMinima))\r\n",
    "\r\n",
    "    # Deleting doubles\r\n",
    "    print(localMaxima)\r\n",
    "    black_patch = mpatches.Patch(color='black', label='Peak Wave')\r\n",
    "    grey_patch = mpatches.Patch(color='grey', label='Minimum Dip')\r\n",
    "    red_line = mlines.Line2D([], [], color='red', markersize=15, label='7 Day Average')\r\n",
    "    pink_dots = mlines.Line2D([], [], color='pink',marker ='.', markersize=15, label='Daily Cases')\r\n",
    "    ply.legend(loc=\"upper left\",handles=[red_line,pink_dots,black_patch,grey_patch])\r\n",
    "    ply.xlabel(\"Days Since First Track\")\r\n",
    "    ply.ylabel(\"Daily Cases\")\r\n",
    "    ply.savefig('filename.png', dpi=300)\r\n",
    "    ply.show()\r\n",
    "    for i in range(len(localMaxima)):\r\n",
    "        localMaxima[i] = dateCounterReverse(localMaxima[i])\r\n",
    "        convert = str(localMaxima[i][0])+'/'+str(localMaxima[i][1])+'/'+str(localMaxima[i][2])\r\n",
    "        localMaxima[i] = convert\r\n",
    "    for i in range(len(localMinima)):\r\n",
    "        localMinima[i] = dateCounterReverse(localMinima[i])\r\n",
    "        convert = str(localMinima[i][0])+'/'+str(localMinima[i][1])+'/'+str(localMinima[i][2])\r\n",
    "        localMinima[i] = convert\r\n",
    "    print(localMaxima)\r\n",
    "    print(localMinima)\r\n"
   ],
   "outputs": [],
   "metadata": {}
  },
  {
   "cell_type": "code",
   "execution_count": null,
   "source": [
    "plotStateInfo('TX')"
   ],
   "outputs": [
    {
     "output_type": "stream",
     "name": "stdout",
     "text": [
      "The polynomials equation is : y = -1053.62846 * x + 37.87403 * x^2 + -0.53766 *x^3 +0.00384 * x^4 + -0.00001 * x^5 +  0.00000 *x^6 +-0.00000 * x^7 + 0.00000 * x^8 + 8421.54196 \n"
     ]
    },
    {
     "output_type": "stream",
     "name": "stderr",
     "text": [
      "<ipython-input-18-9f916210c887>:33: ComplexWarning: Casting complex values to real discards the imaginary part\n",
      "  roots[i] = int(roots[i])\n",
      "<ipython-input-18-9f916210c887>:36: ComplexWarning: Casting complex values to real discards the imaginary part\n",
      "  localMaxima.append(int(roots[i]))\n",
      "<ipython-input-18-9f916210c887>:41: ComplexWarning: Casting complex values to real discards the imaginary part\n",
      "  localMinima.append(int(roots[i]))\n"
     ]
    },
    {
     "output_type": "stream",
     "name": "stdout",
     "text": [
      "[88, 269, 485]\n"
     ]
    },
    {
     "output_type": "display_data",
     "data": {
      "image/png": "[encoded data removed]",
      "text/plain": [
       "<Figure size 432x288 with 1 Axes>"
      ]
     },
     "metadata": {
      "needs_background": "light"
     }
    },
    {
     "output_type": "stream",
     "name": "stdout",
     "text": [
      "['3/28/2020', '9/25/2020', '4/29/2021']\n",
      "['5/30/2020', '4/29/2021', '1/22/2020', '2/2/2021']\n"
     ]
    }
   ],
   "metadata": {}
  },
  {
   "cell_type": "markdown",
   "source": [],
   "metadata": {}
  }
 ],
 "metadata": {
  "orig_nbformat": 4,
  "language_info": {
   "name": "python",
   "version": "3.9.6",
   "mimetype": "text/x-python",
   "codemirror_mode": {
    "name": "ipython",
    "version": 3
   },
   "pygments_lexer": "ipython3",
   "nbconvert_exporter": "python",
   "file_extension": ".py"
  },
  "kernelspec": {
   "name": "python3",
   "display_name": "Python 3.9.6 64-bit"
  },
  "interpreter": {
   "hash": "03b31e0dbf5ee774e49906e1a4e99cf39d3bc46df0e15af7b9d16b1e9b24f047"
  }
 },
 "nbformat": 4,
 "nbformat_minor": 2
}