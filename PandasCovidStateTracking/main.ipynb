{
 "cells": [
  {
   "cell_type": "code",
   "execution_count": 3,
   "source": [
    "# Take the input date, and turn it into a list\r\n",
    "monthdaycount = [31,28,31,30,31,30,31,31,30,31,30,31]\r\n",
    "leapmonthdaycount = [31,29,31,30,31,30,31,31,30,31,30,31]\r\n",
    "\r\n",
    "# REMEMBER 2020 WAS A LEAP YEAR, IDIOT\r\n",
    "# Start date is 4-12-2020\r\n",
    "def dateCounter(date):\r\n",
    "    dateCount = 0\r\n",
    "    arrdate = [int(i) for i in date.split('-')]\r\n",
    "    if arrdate[2]>2020:\r\n",
    "        dateCount+=(arrdate[2]-2020)*366\r\n",
    "        # 366 at least have passed since 1-1-2020, so add that here, its a leap year\r\n",
    "    for i in range(arrdate[0]-1):\r\n",
    "        dateCount+=monthdaycount[i]\r\n",
    "    dateCount+=arrdate[1]\r\n",
    "    return dateCount\r\n",
    "# Curreny objective, get days since Jan 1st 2020\r\n",
    "# DOESNT WORK WITH LEAP YEARS\r\n",
    "def dateCounterReverse(dateCount):\r\n",
    "    arrDate=[1,1,2020]\r\n",
    "    activeMonths = []\r\n",
    "    if dateCount>366:\r\n",
    "        dateCount-=366\r\n",
    "        arrDate[2]+=1\r\n",
    "        # 366 at least have passed since 1-1-2020, so add that here, its a leap year\r\n",
    "    if(arrDate[2]%4==0):\r\n",
    "        activeMonths = leapmonthdaycount\r\n",
    "        \r\n",
    "    else:\r\n",
    "        activeMonths = monthdaycount\r\n",
    "    for i in range(len(activeMonths)-1):\r\n",
    "\r\n",
    "        if(dateCount-activeMonths[arrDate[0]-1]>0):\r\n",
    "            dateCount-=activeMonths[arrDate[0]-1]\r\n",
    "            # print(\"the max day for month \" + str(i) + \" is \" + str(activeMonths[arrDate[0]-1]))\r\n",
    "            arrDate[0]+=1\r\n",
    "        # Error here in month day counting, this was iterating through i, even when you couldn't subtract the given month's number of days, use the month number stored in the arrDate cause that's the current month\r\n",
    "            # If the date can be subtracted from a given month, do so\r\n",
    "    arrDate[1]+=dateCount-1\r\n",
    "    for j in range(len(arrDate)):\r\n",
    "        # if len(str(arrDate[j-1]))<=1:\r\n",
    "        #     arrDate[j-1] = '0'+ str(arrDate[j-1])\r\n",
    "        # else:\r\n",
    "        arrDate[j-1] = str(arrDate[j-1])\r\n",
    "    return arrDate\r\n",
    "# Curreny objective Takes the number of days since a given event, and returns the date it occured\r\n",
    "# DOESNT WORK WITH LEAP YEARS, OR FOR 2022,EXPIRES 1-1-2022\r\n"
   ],
   "outputs": [],
   "metadata": {}
  },
  {
   "cell_type": "markdown",
   "source": [
    "# Date Counting Functions\r\n",
    "## Introduction\r\n",
    "* One of the most important ways to look through a given set of data to analyze it, is to have some way to iterate through your data. The largest issues with counting with days is that dates are often deliniated in a non-base 10 format, meaning there needs to be some sort of method for translating a given date, into a base 10 number.\r\n",
    "## Input Converter\r\n",
    "* The best way I could find to convert dates to the correct integer form was to add up the whole number of months* the number of days per month, add the number of whole number of years * the days per year, and then add the day. From here the function would return the number of days since a defined origin point.\r\n",
    "* Thankfully the process designed to count the number of days between two dates, was a two way process. Simply input the iterator into the function, check if it is greater than 366. If it is, add one year to the year array. From there, go through the month count array and check if the selected month is greater than the current number, each time it adds to the month value and subtracts the number of days to the counter. This process repeats until the loop has gone through every month that is greater than our number. The remainder after this process is thus the day value.\r\n",
    "## Testing for accuracy\r\n",
    "* The best part of the reversible nature of this function, is you can plug one function into the other, and your input should equal the output. Upon testing this held true, meaning the functions work identically"
   ],
   "metadata": {}
  },
  {
   "cell_type": "code",
   "execution_count": 4,
   "source": [
    "import pandas as pd\r\n",
    "import numpy as np\r\n",
    "import matplotlib.pyplot as ply\r\n",
    "\r\n",
    "covidDf = pd.read_csv('Data.csv')"
   ],
   "outputs": [],
   "metadata": {}
  },
  {
   "cell_type": "code",
   "execution_count": 5,
   "source": [
    "def stateCases(state):\r\n",
    "    date = '09-10-2021'\r\n",
    "    stateArr = []\r\n",
    "    yVals = []\r\n",
    "    covidDF = covidDf[covidDf['state'].str.contains(state)]\r\n",
    "    for i in range(dateCounter(date)-102):\r\n",
    "        dateArr=dateCounterReverse(i+103)\r\n",
    "        dateStr = str(dateArr[0])+'/'+str(dateArr[1])+'/'+str(dateArr[2])\r\n",
    "        covidCount= (covidDF[covidDF['submission_date'].str.contains(dateStr)])\r\n",
    "        stateArr.append(int(list(covidCount['new_case'])[0].replace(',','')))\r\n",
    "        yVals.append(i)\r\n",
    "    return stateArr, yVals"
   ],
   "outputs": [],
   "metadata": {}
  },
  {
   "cell_type": "code",
   "execution_count": 6,
   "source": [
    "def stateCasesMedian(state):\r\n",
    "    date = '09-10-2021'\r\n",
    "    stateArr = []\r\n",
    "    yVals = []\r\n",
    "    medianArr = []\r\n",
    "    covidDF = covidDf[covidDf['state'].str.contains(state)]\r\n",
    "    for i in range(dateCounter(date)-102):\r\n",
    "        dateArr=dateCounterReverse(i+103)\r\n",
    "        dateStr = str(dateArr[0])+'/'+str(dateArr[1])+'/'+str(dateArr[2])\r\n",
    "        covidCount= (covidDF[covidDF['submission_date'].str.contains(dateStr)])\r\n",
    "        stateArr.append(int(list(covidCount['new_case'])[0].replace(',','')))\r\n",
    "        yVals.append(i)\r\n",
    "    for i in range(len(stateArr)):\r\n",
    "        if len(stateArr)-i> 7:\r\n",
    "            medianTemp = stateArr[i:i+7]\r\n",
    "            medianArr.append([np.median(medianTemp),i+3.5])\r\n",
    "            i+=7\r\n",
    "        else:\r\n",
    "            medianTemp = stateArr[i::]\r\n",
    "            medianArr.append([np.median(medianTemp),i+((len(stateArr)-i)/2)])\r\n",
    "    return medianArr"
   ],
   "outputs": [],
   "metadata": {}
  },
  {
   "cell_type": "code",
   "execution_count": 7,
   "source": [
    "def stateCasesAverage(state):\r\n",
    "    date = '09-10-2021'\r\n",
    "    stateArr = []\r\n",
    "    yVals = []\r\n",
    "    averageArr = []\r\n",
    "    covidDF = covidDf[covidDf['state'].str.contains(state)]\r\n",
    "    for i in range(dateCounter(date)-102):\r\n",
    "        dateArr=dateCounterReverse(i+103)\r\n",
    "        dateStr = str(dateArr[0])+'/'+str(dateArr[1])+'/'+str(dateArr[2])\r\n",
    "        covidCount= (covidDF[covidDF['submission_date'].str.contains(dateStr)])\r\n",
    "        stateArr.append(int(list(covidCount['new_case'])[0].replace(',','')))\r\n",
    "        yVals.append(i)\r\n",
    "    for i in range(len(stateArr)):\r\n",
    "        if len(stateArr)-i> 7:\r\n",
    "            averageTemp = stateArr[i:i+7]\r\n",
    "            averageArr.append([np.average(averageTemp),i+3.5])\r\n",
    "            i+=7\r\n",
    "        else:\r\n",
    "            averageTemp = stateArr[i::]\r\n",
    "            averageArr.append([np.median(averageTemp),i+((len(stateArr)-i)/2)])\r\n",
    "    return averageArr"
   ],
   "outputs": [],
   "metadata": {}
  },
  {
   "cell_type": "markdown",
   "source": [
    "# Collecting the Data\r\n",
    "### As mentioned in the previous markdown, this loop will loop through a given start and end date range. Inside the loop the given iterator is imported into the date converter, which returns a string date. From there the CDC covid dataframe is searched by each row to see which ones contrain the queried state, then the date string, and from here you search the outputted df row for your requested piece of data, in this case the daily new cases.\r\n",
    "\r\n",
    "## The below code simply takes a given state, and plots the different data sets through the weekly average, median, and a background scatterplot of true case numbers"
   ],
   "metadata": {}
  },
  {
   "cell_type": "code",
   "execution_count": 8,
   "source": [
    "state = 'CA'\r\n",
    "ply.scatter(stateCases(state)[1],stateCases(state)[0],color = 'grey')\r\n",
    "ply.plot(stateCasesAverage(state),color = 'r')\r\n",
    "ply.plot(stateCasesMedian(state),color = 'b')\r\n",
    "\r\n",
    "# Add ma\r\n"
   ],
   "outputs": [
    {
     "output_type": "execute_result",
     "data": {
      "text/plain": [
       "[<matplotlib.lines.Line2D at 0x202fb762400>,\n",
       " <matplotlib.lines.Line2D at 0x202fb762370>]"
      ]
     },
     "metadata": {},
     "execution_count": 8
    },
    {
     "output_type": "display_data",
     "data": {
      "image/png": "[encoded data removed]",
      "text/plain": [
       "<Figure size 432x288 with 1 Axes>"
      ]
     },
     "metadata": {
      "needs_background": "light"
     }
    }
   ],
   "metadata": {}
  },
  {
   "cell_type": "markdown",
   "source": [
    "# Multivariate Curve Fitting"
   ],
   "metadata": {}
  },
  {
   "cell_type": "markdown",
   "source": [
    "### The below code uses the Scipi library to calculate a 8th degree polynomial that represents the best fit curve of the data, stored into y_line. The program then additionally calculates the derivative of this curve, and stores its y values into y_deriv. The indecies of the returned array are as follows\r\n",
    "* roots\r\n",
    "* Local maxima\r\n",
    "* Local Minima\r\n",
    "* x\r\n",
    "* y"
   ],
   "metadata": {}
  },
  {
   "cell_type": "code",
   "execution_count": 9,
   "source": [
    "from scipy.optimize import curve_fit\r\n",
    "from numpy import arange \r\n",
    "import numpy as np\r\n",
    "def objective(x, a, b, c,d,e,f,g,h,i):\r\n",
    "\treturn a * x + b * x**2 + c*x**3 +d*x**4 +e*x**5 +f*x**6 +g*x**7+h*x**8 +i\r\n",
    "def derivative(x, a, b, c,d,e,f,g,h,i):\r\n",
    "        return a + 2* b * x + 3*c*x**2 +4*d*x**3 +5*e*x**4 +6*f*x**5 +7*g*x**6 + 8*h*x**7\r\n",
    "state = 'CA'\r\n",
    "def zeroFinder(state):\r\n",
    "    x=[]\r\n",
    "    y = []\r\n",
    "    localMaxima = []\r\n",
    "    localMinima = []\r\n",
    "    j,k = 0,0\r\n",
    "    length = len(stateCases(state)[0])\r\n",
    "    casesData = stateCasesAverage(state)\r\n",
    "    for i in range(len(casesData)):\r\n",
    "        y.append(casesData[i][0])\r\n",
    "        x.append(casesData[i][1])\r\n",
    "    popt, _ = curve_fit(objective, x, y)\r\n",
    "    a,b,c,d,e,f,g,h,i = popt\r\n",
    "    coeff = [a,2*b,3*c,4*d,5*e,6*f,7*g,8*h]\r\n",
    "    zeroes = np.poly1d(list(reversed(coeff)))\r\n",
    "    roots = zeroes.r\r\n",
    "    for i in range(roots.shape[0]):\r\n",
    "        roots[i] = int(roots[i])\r\n",
    "        if derivative(roots[i]-5, a, b, c,d,e,f,g,h,i) >0 and 0<  int(roots[i]) and int(roots[i])<length: \r\n",
    "            localMaxima.append(int(roots[i]))\r\n",
    "        if derivative(roots[i]+5, a, b, c,d,e,f,g,h,i) >0 and 0 <  int(roots[i]) and int(roots[i])<length:\r\n",
    "            localMinima.append(int(roots[i]))\r\n",
    "    x_line = arange(min(x), max(x), .01)\r\n",
    "    y_line = objective(x_line, a, b, c,d,e,f,g,h,i)\r\n",
    "    # print('The polynomials equation is : y = %.5f * x + %.5f * x^2 + %.5f *x^3 +%.5f * x^4 + %.5f * x^5 +  %.5f *x^6 +%.5f * x^7 + %.5f * x^8 + %.5f '  % (a, b, c,d,e,f,g,h,i))\r\n",
    "    x_deriv = arange(min(x), max(x), .01)\r\n",
    "    y_deriv = derivative(x_line, a, b, c,d,e,f,g,h,i)\r\n",
    "    # ### The below code then stores the calculated polynomial coefficients into a list, and converts it into a numpy 1 dimensional polynomial datatype. From there numpy has a built in zeroes function that will calculate the roots. \r\n",
    "    localMaxima  = list(set(localMaxima))\r\n",
    "    localMinima  = list(set(localMinima))\r\n",
    "\r\n",
    "    return roots,localMaxima,localMinima,x,y\r\n",
    "\r\n",
    "stateAnalysis = zeroFinder(state)\r\n",
    "\r\n"
   ],
   "outputs": [],
   "metadata": {}
  },
  {
   "cell_type": "markdown",
   "source": [
    "### Python's built in int() function severes imaginary components, so the range of the lists first dimention's length is iterated through to remove the imaginary pieces. Everything is then split into two graphs, and plotted. The red lines indicate a local maxima, while the blue indicate a minima"
   ],
   "metadata": {}
  },
  {
   "cell_type": "markdown",
   "source": [
    "### Making a simple function to convert an integer array into its corresponding dates"
   ],
   "metadata": {}
  },
  {
   "cell_type": "code",
   "execution_count": 10,
   "source": [
    "\r\n",
    "def arrayNumToDate(arr):\r\n",
    "    for i in range(len(arr)):\r\n",
    "        arr[i] = dateCounterReverse(arr[i])\r\n",
    "        convert = str(arr[i][0])+'/'+str(arr[i][1])+'/'+str(arr[i][2])\r\n",
    "        arr[i] = convert\r\n",
    "    return arr\r\n",
    "\r\n"
   ],
   "outputs": [],
   "metadata": {}
  },
  {
   "cell_type": "markdown",
   "source": [
    "# Creating Plotting Function\r\n",
    "### Takes advantedge of all the previously defined functions into one simple plotter"
   ],
   "metadata": {}
  },
  {
   "cell_type": "code",
   "execution_count": 11,
   "source": [
    "import matplotlib.patches as mpatches\r\n",
    "import matplotlib.lines as mlines\r\n",
    "def plotStateInfo(state):\r\n",
    "    stateAnalysis = zeroFinder(state)\r\n",
    "    x=stateAnalysis[3]\r\n",
    "    y = stateAnalysis[4]\r\n",
    "    localMaxima  = stateAnalysis[1]\r\n",
    "    localMinima  = stateAnalysis[2]\r\n",
    "    # Deleting doubles\r\n",
    "    for i in range(len(localMaxima)):\r\n",
    "        ply.axvline(x=localMaxima[i],color = 'black')\r\n",
    "    for i in range(len(localMinima)):\r\n",
    "        ply.axvline(x=localMinima[i],color = 'blue')\r\n",
    "    ply.plot(x, y,color = 'red', label = '7 Day Average')\r\n",
    "    ply.scatter(stateCases(state)[1],stateCases(state)[0],color = 'pink', label = 'Daily cases')\r\n",
    "    # legend stuff\r\n",
    "    ply.title(state + ' COVID-19 cases ')\r\n",
    "    black_patch = mpatches.Patch(color='black', label='Peak Wave')\r\n",
    "    grey_patch = mpatches.Patch(color='blue', label='Minimum Dip')\r\n",
    "    red_line = mlines.Line2D([], [], color='red', markersize=15, label='7 Day Average')\r\n",
    "    pink_dots = mlines.Line2D([], [], color='pink',marker ='.', markersize=15, label='Daily Cases')\r\n",
    "    ply.legend(loc=\"upper left\",handles=[red_line,pink_dots,black_patch,grey_patch])\r\n",
    "    ply.xlabel(\"Days Since First Track\")\r\n",
    "    ply.ylabel(\"Daily Cases\")\r\n",
    "    ply.savefig('filename.png', dpi=300)\r\n",
    "    ply.show()\r\n",
    "    print(arrayNumToDate(localMaxima))\r\n",
    "    print(arrayNumToDate(localMinima))  \r\n",
    "\r\n",
    "\r\n"
   ],
   "outputs": [],
   "metadata": {}
  },
  {
   "cell_type": "code",
   "execution_count": 12,
   "source": [
    "plotStateInfo('TX')\r\n"
   ],
   "outputs": [
    {
     "output_type": "stream",
     "name": "stderr",
     "text": [
      "<ipython-input-9-55a41484cd41>:26: ComplexWarning: Casting complex values to real discards the imaginary part\n",
      "  roots[i] = int(roots[i])\n",
      "<ipython-input-9-55a41484cd41>:27: ComplexWarning: Casting complex values to real discards the imaginary part\n",
      "  if derivative(roots[i]-5, a, b, c,d,e,f,g,h,i) >0 and 0<  int(roots[i]) and int(roots[i])<length:\n",
      "<ipython-input-9-55a41484cd41>:28: ComplexWarning: Casting complex values to real discards the imaginary part\n",
      "  localMaxima.append(int(roots[i]))\n",
      "<ipython-input-9-55a41484cd41>:29: ComplexWarning: Casting complex values to real discards the imaginary part\n",
      "  if derivative(roots[i]+5, a, b, c,d,e,f,g,h,i) >0 and 0 <  int(roots[i]) and int(roots[i])<length:\n",
      "<ipython-input-9-55a41484cd41>:30: ComplexWarning: Casting complex values to real discards the imaginary part\n",
      "  localMinima.append(int(roots[i]))\n"
     ]
    },
    {
     "output_type": "display_data",
     "data": {
      "image/png": "[encoded data removed]",
      "text/plain": [
       "<Figure size 432x288 with 1 Axes>"
      ]
     },
     "metadata": {
      "needs_background": "light"
     }
    },
    {
     "output_type": "stream",
     "name": "stdout",
     "text": [
      "['3/28/2020', '9/25/2020', '4/29/2021']\n",
      "['5/30/2020', '4/29/2021', '1/22/2020', '2/2/2021']\n"
     ]
    }
   ],
   "metadata": {}
  },
  {
   "cell_type": "code",
   "execution_count": 13,
   "source": [
    "stateAbbreviations = ['AL', 'AK', 'AZ', 'AR', 'CA', 'CO', 'CT', 'DE', 'DC', 'FL', 'GA', 'HI', 'ID', 'IL', 'IN', 'IA', 'KS', 'KY', 'LA', 'ME', 'MD', 'MA', 'MI', 'MN', 'MS', 'MO', 'MT', 'NE', 'NV', 'NH', 'NJ', 'NM', 'NY', 'NC', 'ND', 'OH', 'OK', 'OR', 'PA', 'RI', 'SC', 'SD', 'TN', 'TX', 'UT', 'VT', 'VA', 'WA', 'WV', 'WI', 'WY']\r\n"
   ],
   "outputs": [],
   "metadata": {}
  },
  {
   "cell_type": "code",
   "execution_count": 14,
   "source": [
    "totalMaxes = []\r\n",
    "for i in range(len(stateAbbreviations)):\r\n",
    "    state = stateAbbreviations[i]\r\n",
    "    x = zeroFinder(state)[1]\r\n",
    "    totalMaxes = totalMaxes+x\r\n",
    "print(totalMaxes)"
   ],
   "outputs": [
    {
     "output_type": "stream",
     "name": "stderr",
     "text": [
      "<ipython-input-9-55a41484cd41>:26: ComplexWarning: Casting complex values to real discards the imaginary part\n",
      "  roots[i] = int(roots[i])\n",
      "<ipython-input-9-55a41484cd41>:27: ComplexWarning: Casting complex values to real discards the imaginary part\n",
      "  if derivative(roots[i]-5, a, b, c,d,e,f,g,h,i) >0 and 0<  int(roots[i]) and int(roots[i])<length:\n",
      "<ipython-input-9-55a41484cd41>:28: ComplexWarning: Casting complex values to real discards the imaginary part\n",
      "  localMaxima.append(int(roots[i]))\n",
      "<ipython-input-9-55a41484cd41>:29: ComplexWarning: Casting complex values to real discards the imaginary part\n",
      "  if derivative(roots[i]+5, a, b, c,d,e,f,g,h,i) >0 and 0 <  int(roots[i]) and int(roots[i])<length:\n",
      "<ipython-input-9-55a41484cd41>:30: ComplexWarning: Casting complex values to real discards the imaginary part\n",
      "  localMinima.append(int(roots[i]))\n"
     ]
    },
    {
     "output_type": "stream",
     "name": "stdout",
     "text": [
      "0\n",
      "1\n",
      "2\n",
      "3\n",
      "4\n",
      "5\n",
      "6\n",
      "7\n",
      "8\n",
      "9\n",
      "10\n",
      "11\n",
      "12\n",
      "13\n",
      "14\n",
      "15\n",
      "16\n",
      "17\n",
      "18\n",
      "19\n",
      "20\n",
      "21\n",
      "22\n",
      "23\n",
      "24\n",
      "25\n",
      "26\n",
      "27\n",
      "28\n",
      "29\n",
      "30\n",
      "31\n",
      "32\n",
      "33\n",
      "34\n",
      "35\n",
      "36\n",
      "37\n",
      "38\n",
      "39\n",
      "40\n",
      "41\n",
      "42\n",
      "43\n",
      "44\n",
      "45\n",
      "46\n",
      "47\n",
      "48\n",
      "49\n",
      "50\n",
      "[259, 84, 493, 234, 35, 453, 266, 469, 78, 256, 514, 86, 76, 470, 262, 32, 242, 427, 267, 479, 464, 268, 53, 515, 277, 496, 288, 95, 91, 514, 275, 329, 18, 510, 151, 89, 460, 237, 232, 457, 27, 243, 45, 463, 222, 454, 30, 475, 63, 243, 255, 76, 479, 275, 491, 92, 283, 60, 264, 484, 36, 476, 269, 220, 28, 32, 225, 407, 498, 267, 90, 232, 492, 68, 440, 32, 223, 458, 228, 30, 467, 84, 254, 56, 274, 461, 281, 48, 473, 245, 64, 290, 500, 268, 78, 201, 27, 415, 448, 66, 252, 82, 485, 247, 473, 67, 259, 264, 51, 258, 469, 277, 510, 87, 27, 210, 419, 85, 500, 252, 88, 269, 485, 65, 459, 244, 123, 505, 315, 28, 72, 273, 484, 263, 76, 471, 258, 70, 447, 32, 219, 452, 458, 35, 230]\n"
     ]
    }
   ],
   "metadata": {}
  },
  {
   "cell_type": "code",
   "execution_count": 18,
   "source": [
    "maxDict ={}\r\n",
    "length = (len(totalMaxes))\r\n",
    "for i in range(length):\r\n",
    "\r\n",
    "    group = int((totalMaxes[i] - totalMaxes[i]%7)/7)\r\n",
    "    \r\n",
    "    \r\n",
    "    if group in maxDict:\r\n",
    "        maxDict[(group)] += 1\r\n",
    "    else:\r\n",
    "        maxDict[group]= 1\r\n",
    "print(maxDict) \r\n"
   ],
   "outputs": [
    {
     "output_type": "stream",
     "name": "stdout",
     "text": [
      "{37: 6, 12: 8, 70: 4, 33: 4, 5: 3, 64: 4, 38: 7, 67: 7, 11: 3, 36: 7, 73: 3, 10: 5, 4: 8, 34: 4, 61: 1, 68: 3, 66: 3, 7: 2, 39: 6, 41: 2, 13: 3, 47: 1, 2: 1, 72: 3, 21: 1, 65: 6, 3: 3, 6: 2, 31: 4, 9: 6, 40: 2, 8: 2, 69: 4, 32: 3, 58: 1, 71: 3, 62: 1, 35: 2, 28: 1, 59: 2, 30: 1, 17: 1, 45: 1, 63: 1}\n"
     ]
    }
   ],
   "metadata": {}
  },
  {
   "cell_type": "code",
   "execution_count": 28,
   "source": [
    "x = maxDict.values()\r\n",
    "y = maxDict.keys()\r\n",
    "ply.bar(y,x, color = 'r')\r\n",
    "ply.title('Weeks all states peaked')\r\n",
    "ply.xlabel('Weeks since beggining')\r\n",
    "ply.ylabel('Number of states peaking')\r\n",
    "ply.show()"
   ],
   "outputs": [
    {
     "output_type": "error",
     "ename": "NameError",
     "evalue": "name 'maxDict' is not defined",
     "traceback": [
      "\u001b[1;31m---------------------------------------------------------------------------\u001b[0m",
      "\u001b[1;31mNameError\u001b[0m                                 Traceback (most recent call last)",
      "\u001b[1;32m<ipython-input-28-5dd111499377>\u001b[0m in \u001b[0;36m<module>\u001b[1;34m\u001b[0m\n\u001b[1;32m----> 1\u001b[1;33m \u001b[0mx\u001b[0m \u001b[1;33m=\u001b[0m \u001b[0mmaxDict\u001b[0m\u001b[1;33m.\u001b[0m\u001b[0mvalues\u001b[0m\u001b[1;33m(\u001b[0m\u001b[1;33m)\u001b[0m\u001b[1;33m\u001b[0m\u001b[1;33m\u001b[0m\u001b[0m\n\u001b[0m\u001b[0;32m      2\u001b[0m \u001b[0my\u001b[0m \u001b[1;33m=\u001b[0m \u001b[0mmaxDict\u001b[0m\u001b[1;33m.\u001b[0m\u001b[0mkeys\u001b[0m\u001b[1;33m(\u001b[0m\u001b[1;33m)\u001b[0m\u001b[1;33m\u001b[0m\u001b[1;33m\u001b[0m\u001b[0m\n\u001b[0;32m      3\u001b[0m \u001b[0mply\u001b[0m\u001b[1;33m.\u001b[0m\u001b[0mbar\u001b[0m\u001b[1;33m(\u001b[0m\u001b[0my\u001b[0m\u001b[1;33m,\u001b[0m\u001b[0mx\u001b[0m\u001b[1;33m,\u001b[0m \u001b[0mcolor\u001b[0m \u001b[1;33m=\u001b[0m \u001b[1;34m'r'\u001b[0m\u001b[1;33m)\u001b[0m\u001b[1;33m\u001b[0m\u001b[1;33m\u001b[0m\u001b[0m\n\u001b[0;32m      4\u001b[0m \u001b[0mply\u001b[0m\u001b[1;33m.\u001b[0m\u001b[0mtitle\u001b[0m\u001b[1;33m(\u001b[0m\u001b[1;34m'Weeks all states peaked'\u001b[0m\u001b[1;33m)\u001b[0m\u001b[1;33m\u001b[0m\u001b[1;33m\u001b[0m\u001b[0m\n\u001b[0;32m      5\u001b[0m \u001b[0mply\u001b[0m\u001b[1;33m.\u001b[0m\u001b[0mxlabel\u001b[0m\u001b[1;33m(\u001b[0m\u001b[1;34m'Weeks since beggining'\u001b[0m\u001b[1;33m)\u001b[0m\u001b[1;33m\u001b[0m\u001b[1;33m\u001b[0m\u001b[0m\n",
      "\u001b[1;31mNameError\u001b[0m: name 'maxDict' is not defined"
     ]
    }
   ],
   "metadata": {}
  },
  {
   "cell_type": "code",
   "execution_count": 26,
   "source": [
    "totalBegginings = []\r\n",
    "for i in range(len(stateAbbreviations)):\r\n",
    "    state = stateAbbreviations[i]\r\n",
    "    x = zeroFinder(state)[2]\r\n",
    "    totalBegginings = totalBegginings+x\r\n",
    "    print(i)\r\n",
    "minDict ={}\r\n",
    "length = (len(totalMaxes))\r\n",
    "for i in range(length):\r\n",
    "\r\n",
    "    group = int((totalBegginings[i] - totalBegginings[i]%7)/7)\r\n",
    "    \r\n",
    "    \r\n",
    "    if group in minDict:\r\n",
    "        minDict[(group)] += 1\r\n",
    "    else:\r\n",
    "        minDict[group]= 1\r\n",
    "print(minDict) \r\n"
   ],
   "outputs": [
    {
     "output_type": "stream",
     "name": "stderr",
     "text": [
      "<ipython-input-9-55a41484cd41>:26: ComplexWarning: Casting complex values to real discards the imaginary part\n",
      "  roots[i] = int(roots[i])\n",
      "<ipython-input-9-55a41484cd41>:27: ComplexWarning: Casting complex values to real discards the imaginary part\n",
      "  if derivative(roots[i]-5, a, b, c,d,e,f,g,h,i) >0 and 0<  int(roots[i]) and int(roots[i])<length:\n",
      "<ipython-input-9-55a41484cd41>:28: ComplexWarning: Casting complex values to real discards the imaginary part\n",
      "  localMaxima.append(int(roots[i]))\n",
      "<ipython-input-9-55a41484cd41>:29: ComplexWarning: Casting complex values to real discards the imaginary part\n",
      "  if derivative(roots[i]+5, a, b, c,d,e,f,g,h,i) >0 and 0 <  int(roots[i]) and int(roots[i])<length:\n",
      "<ipython-input-9-55a41484cd41>:30: ComplexWarning: Casting complex values to real discards the imaginary part\n",
      "  localMinima.append(int(roots[i]))\n"
     ]
    },
    {
     "output_type": "stream",
     "name": "stdout",
     "text": [
      "0\n",
      "1\n",
      "2\n",
      "3\n",
      "4\n",
      "5\n",
      "6\n",
      "7\n",
      "8\n",
      "9\n",
      "10\n",
      "11\n",
      "12\n",
      "13\n",
      "14\n",
      "15\n",
      "16\n",
      "17\n",
      "18\n",
      "19\n",
      "20\n",
      "21\n",
      "22\n",
      "23\n",
      "24\n",
      "25\n",
      "26\n",
      "27\n",
      "28\n",
      "29\n",
      "30\n",
      "31\n",
      "32\n",
      "33\n",
      "34\n",
      "35\n",
      "36\n",
      "37\n",
      "38\n",
      "39\n",
      "40\n",
      "41\n",
      "42\n",
      "43\n",
      "44\n",
      "45\n",
      "46\n",
      "47\n",
      "48\n",
      "49\n",
      "50\n",
      "{20: 3, 2: 12, 55: 9, 70: 3, 12: 5, 64: 2, 69: 4, 21: 1, 18: 4, 73: 2, 3: 8, 71: 2, 14: 4, 54: 8, 59: 4, 16: 3, 68: 3, 66: 6, 4: 1, 17: 4, 60: 2, 57: 4, 24: 1, 22: 2, 7: 2, 35: 1, 65: 4, 13: 3, 1: 2, 67: 8, 15: 4, 56: 4, 23: 1, 0: 2, 53: 2, 9: 1, 11: 3, 19: 3, 61: 2, 62: 1, 49: 1, 58: 2, 72: 1, 52: 1}\n"
     ]
    }
   ],
   "metadata": {}
  },
  {
   "cell_type": "code",
   "execution_count": 27,
   "source": [
    "x = dict.values()\r\n",
    "y = dict.keys()\r\n",
    "dict = mi\r\n",
    "ply.bar(y,x, color = 'r')\r\n",
    "ply.title('Weeks all states started')\r\n",
    "ply.xlabel('Weeks since beggining')\r\n",
    "ply.ylabel('Number of states peaking')\r\n",
    "ply.show()"
   ],
   "outputs": [
    {
     "output_type": "display_data",
     "data": {
      "image/png": "[encoded data removed]",
      "text/plain": [
       "<Figure size 432x288 with 1 Axes>"
      ]
     },
     "metadata": {
      "needs_background": "light"
     }
    }
   ],
   "metadata": {}
  },
  {
   "cell_type": "markdown",
   "source": [],
   "metadata": {}
  },
  {
   "cell_type": "markdown",
   "source": [],
   "metadata": {}
  }
 ],
 "metadata": {
  "orig_nbformat": 4,
  "language_info": {
   "name": "python",
   "version": "3.9.6",
   "mimetype": "text/x-python",
   "codemirror_mode": {
    "name": "ipython",
    "version": 3
   },
   "pygments_lexer": "ipython3",
   "nbconvert_exporter": "python",
   "file_extension": ".py"
  },
  "kernelspec": {
   "name": "python3",
   "display_name": "Python 3.9.6 64-bit"
  },
  "interpreter": {
   "hash": "03b31e0dbf5ee774e49906e1a4e99cf39d3bc46df0e15af7b9d16b1e9b24f047"
  }
 },
 "nbformat": 4,
 "nbformat_minor": 2
}