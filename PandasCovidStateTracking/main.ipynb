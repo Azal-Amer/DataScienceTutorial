{
 "cells": [
  {
   "cell_type": "code",
   "execution_count": 3,
   "source": [
    "# Take the input date, and turn it into a list\r\n",
    "monthdaycount = [31,28,31,30,31,30,31,31,30,31,30,31]\r\n",
    "leapmonthdaycount = [31,29,31,30,31,30,31,31,30,31,30,31]\r\n",
    "\r\n",
    "# REMEMBER 2020 WAS A LEAP YEAR, IDIOT\r\n",
    "# Start date is 4-12-2020\r\n",
    "def dateCounter(date):\r\n",
    "    dateCount = 0\r\n",
    "    arrdate = [int(i) for i in date.split('-')]\r\n",
    "    if arrdate[2]>2020:\r\n",
    "        dateCount+=(arrdate[2]-2020)*366\r\n",
    "        # 366 at least have passed since 1-1-2020, so add that here, its a leap year\r\n",
    "    for i in range(arrdate[0]-1):\r\n",
    "        dateCount+=monthdaycount[i]\r\n",
    "    dateCount+=arrdate[1]\r\n",
    "    return dateCount\r\n",
    "# Curreny objective, get days since Jan 1st 2020\r\n",
    "# DOESNT WORK WITH LEAP YEARS\r\n",
    "def dateCounterReverse(dateCount):\r\n",
    "    arrDate=[1,1,2020]\r\n",
    "    activeMonths = []\r\n",
    "    if dateCount>366:\r\n",
    "        dateCount-=366\r\n",
    "        arrDate[2]+=1\r\n",
    "        # 366 at least have passed since 1-1-2020, so add that here, its a leap year\r\n",
    "    if(arrDate[2]%4==0):\r\n",
    "        activeMonths = leapmonthdaycount\r\n",
    "        \r\n",
    "    else:\r\n",
    "        activeMonths = monthdaycount\r\n",
    "    for i in range(len(activeMonths)-1):\r\n",
    "\r\n",
    "        if(dateCount-activeMonths[arrDate[0]-1]>0):\r\n",
    "            dateCount-=activeMonths[arrDate[0]-1]\r\n",
    "            # print(\"the max day for month \" + str(i) + \" is \" + str(activeMonths[arrDate[0]-1]))\r\n",
    "            arrDate[0]+=1\r\n",
    "        # Error here in month day counting, this was iterating through i, even when you couldn't subtract the given month's number of days, use the month number stored in the arrDate cause that's the current month\r\n",
    "            # If the date can be subtracted from a given month, do so\r\n",
    "    arrDate[1]+=dateCount-1\r\n",
    "    for j in range(len(arrDate)):\r\n",
    "        # if len(str(arrDate[j-1]))<=1:\r\n",
    "        #     arrDate[j-1] = '0'+ str(arrDate[j-1])\r\n",
    "        # else:\r\n",
    "        arrDate[j-1] = str(arrDate[j-1])\r\n",
    "    return arrDate\r\n",
    "# Curreny objective Takes the number of days since a given event, and returns the date it occured\r\n",
    "# DOESNT WORK WITH LEAP YEARS, OR FOR 2022,EXPIRES 1-1-2022\r\n"
   ],
   "outputs": [],
   "metadata": {}
  },
  {
   "cell_type": "markdown",
   "source": [
    "# Date Counting Functions\r\n",
    "## Introduction\r\n",
    "* One of the most important ways to look through a given set of data to analyze it, is to have some way to iterate through your data. The largest issues with counting with days is that dates are often deliniated in a non-base 10 format, meaning there needs to be some sort of method for translating a given date, into a base 10 number.\r\n",
    "## Input Converter\r\n",
    "* The best way I could find to convert dates to the correct integer form was to add up the whole number of months* the number of days per month, add the number of whole number of years * the days per year, and then add the day. From here the function would return the number of days since a defined origin point.\r\n",
    "* Thankfully the process designed to count the number of days between two dates, was a two way process. Simply input the iterator into the function, check if it is greater than 366. If it is, add one year to the year array. From there, go through the month count array and check if the selected month is greater than the current number, each time it adds to the month value and subtracts the number of days to the counter. This process repeats until the loop has gone through every month that is greater than our number. The remainder after this process is thus the day value.\r\n",
    "## Testing for accuracy\r\n",
    "* The best part of the reversible nature of this function, is you can plug one function into the other, and your input should equal the output. Upon testing this held true, meaning the functions work identically"
   ],
   "metadata": {}
  },
  {
   "cell_type": "code",
   "execution_count": 4,
   "source": [
    "import pandas as pd\r\n",
    "import numpy as np\r\n",
    "import matplotlib.pyplot as ply\r\n",
    "\r\n",
    "covidDf = pd.read_csv('Data.csv')"
   ],
   "outputs": [],
   "metadata": {}
  },
  {
   "cell_type": "code",
   "execution_count": 5,
   "source": [
    "def stateCases(state):\r\n",
    "    date = '09-10-2021'\r\n",
    "    stateArr = []\r\n",
    "    yVals = []\r\n",
    "    covidDF = covidDf[covidDf['state'].str.contains(state)]\r\n",
    "    for i in range(dateCounter(date)-102):\r\n",
    "        dateArr=dateCounterReverse(i+103)\r\n",
    "        dateStr = str(dateArr[0])+'/'+str(dateArr[1])+'/'+str(dateArr[2])\r\n",
    "        covidCount= (covidDF[covidDF['submission_date'].str.contains(dateStr)])\r\n",
    "        stateArr.append(int(list(covidCount['new_case'])[0].replace(',','')))\r\n",
    "        yVals.append(i)\r\n",
    "    return stateArr, yVals"
   ],
   "outputs": [],
   "metadata": {}
  },
  {
   "cell_type": "code",
   "execution_count": 6,
   "source": [
    "def stateCasesMedian(state):\r\n",
    "    date = '09-10-2021'\r\n",
    "    stateArr = []\r\n",
    "    yVals = []\r\n",
    "    medianArr = []\r\n",
    "    covidDF = covidDf[covidDf['state'].str.contains(state)]\r\n",
    "    for i in range(dateCounter(date)-102):\r\n",
    "        dateArr=dateCounterReverse(i+103)\r\n",
    "        dateStr = str(dateArr[0])+'/'+str(dateArr[1])+'/'+str(dateArr[2])\r\n",
    "        covidCount= (covidDF[covidDF['submission_date'].str.contains(dateStr)])\r\n",
    "        stateArr.append(int(list(covidCount['new_case'])[0].replace(',','')))\r\n",
    "        yVals.append(i)\r\n",
    "    for i in range(len(stateArr)):\r\n",
    "        if len(stateArr)-i> 7:\r\n",
    "            medianTemp = stateArr[i:i+7]\r\n",
    "            medianArr.append([np.median(medianTemp),i+3.5])\r\n",
    "            i+=7\r\n",
    "        else:\r\n",
    "            medianTemp = stateArr[i::]\r\n",
    "            medianArr.append([np.median(medianTemp),i+((len(stateArr)-i)/2)])\r\n",
    "    return medianArr"
   ],
   "outputs": [],
   "metadata": {}
  },
  {
   "cell_type": "code",
   "execution_count": 7,
   "source": [
    "def stateCasesAverage(state):\r\n",
    "    date = '09-10-2021'\r\n",
    "    stateArr = []\r\n",
    "    yVals = []\r\n",
    "    averageArr = []\r\n",
    "    covidDF = covidDf[covidDf['state'].str.contains(state)]\r\n",
    "    for i in range(dateCounter(date)-102):\r\n",
    "        dateArr=dateCounterReverse(i+103)\r\n",
    "        dateStr = str(dateArr[0])+'/'+str(dateArr[1])+'/'+str(dateArr[2])\r\n",
    "        covidCount= (covidDF[covidDF['submission_date'].str.contains(dateStr)])\r\n",
    "        stateArr.append(int(list(covidCount['new_case'])[0].replace(',','')))\r\n",
    "        yVals.append(i)\r\n",
    "    for i in range(len(stateArr)):\r\n",
    "        if len(stateArr)-i> 7:\r\n",
    "            averageTemp = stateArr[i:i+7]\r\n",
    "            averageArr.append([np.average(averageTemp),i+3.5])\r\n",
    "            i+=7\r\n",
    "        else:\r\n",
    "            averageTemp = stateArr[i::]\r\n",
    "            averageArr.append([np.median(averageTemp),i+((len(stateArr)-i)/2)])\r\n",
    "    return averageArr"
   ],
   "outputs": [],
   "metadata": {}
  },
  {
   "cell_type": "markdown",
   "source": [
    "# Collecting the Data\r\n",
    "### As mentioned in the previous markdown, this loop will loop through a given start and end date range. Inside the loop the given iterator is imported into the date converter, which returns a string date. From there the CDC covid dataframe is searched by each row to see which ones contrain the queried state, then the date string, and from here you search the outputted df row for your requested piece of data, in this case the daily new cases.\r\n",
    "\r\n",
    "## The below code simply takes a given state, and plots the different data sets through the weekly average, median, and a background scatterplot of true case numbers"
   ],
   "metadata": {}
  },
  {
   "cell_type": "code",
   "execution_count": 8,
   "source": [
    "state = 'CA'\r\n",
    "ply.scatter(stateCases(state)[1],stateCases(state)[0],color = 'grey')\r\n",
    "ply.plot(stateCasesAverage(state),color = 'r')\r\n",
    "ply.plot(stateCasesMedian(state),color = 'b')\r\n",
    "\r\n",
    "# Add ma\r\n"
   ],
   "outputs": [
    {
     "output_type": "execute_result",
     "data": {
      "text/plain": [
       "[<matplotlib.lines.Line2D at 0x222d00a83a0>,\n",
       " <matplotlib.lines.Line2D at 0x222d00a8310>]"
      ]
     },
     "metadata": {},
     "execution_count": 8
    },
    {
     "output_type": "display_data",
     "data": {
      "image/png": "[encoded data removed]",
      "text/plain": [
       "<Figure size 432x288 with 1 Axes>"
      ]
     },
     "metadata": {
      "needs_background": "light"
     }
    }
   ],
   "metadata": {}
  },
  {
   "cell_type": "markdown",
   "source": [
    "# Multivariate Curve Fitting"
   ],
   "metadata": {}
  },
  {
   "cell_type": "markdown",
   "source": [
    "### The below code uses the Scipi library to calculate a 8th degree polynomial that represents the best fit curve of the data, stored into y_line. The program then additionally calculates the derivative of this curve, and stores its y values into y_deriv. The indecies of the returned array are as follows\r\n",
    "* roots\r\n",
    "* Local maxima\r\n",
    "* Local Minima\r\n",
    "* x\r\n",
    "* y"
   ],
   "metadata": {}
  },
  {
   "cell_type": "code",
   "execution_count": 9,
   "source": [
    "from scipy.optimize import curve_fit\r\n",
    "from numpy import arange \r\n",
    "import numpy as np\r\n",
    "def objective(x, a, b, c,d,e,f,g,h,i,j,k):\r\n",
    "\treturn a * x + b * x**2 + c*x**3 +d*x**4 +e*x**5 +f*x**6 +g*x**7+h*x**8 +i*x**9+j*x**10+k\r\n",
    "def derivative(x, a, b, c,d,e,f,g,h,i,j,k):\r\n",
    "        return a + 2* b * x + 3*c*x**2 +4*d*x**3 +5*e*x**4 +6*f*x**5 +7*g*x**6 + 8*h*x**7+9*i*x**8+10*j*x**9\r\n",
    "state = 'CA'\r\n",
    "def zeroFinder(state):\r\n",
    "    x=[]\r\n",
    "    y = []\r\n",
    "    localMaxima = []\r\n",
    "    localMinima = []\r\n",
    "    j,k = 0,0\r\n",
    "    length = len(stateCases(state)[0])\r\n",
    "    casesData = stateCasesAverage(state)\r\n",
    "    for i in range(len(casesData)):\r\n",
    "        y.append(casesData[i][0])\r\n",
    "        x.append(casesData[i][1])\r\n",
    "    popt, _ = curve_fit(objective, x, y)\r\n",
    "    a,b,c,d,e,f,g,h,i,j,k = popt\r\n",
    "    coeffd = [k,a,2*b,3*c,4*d,5*e,6*f,7*g,8*h,9*i,10*j]\r\n",
    "    coeff = [k,a,b,c,d,e,f,g,h,i,j]\r\n",
    "    zeroes = np.poly1d(list(reversed(coeffd)))\r\n",
    "    roots = zeroes.r\r\n",
    "    polynomialOG = np.poly1d(list(reversed(coeff)))\r\n",
    "    for i in range(roots.shape[0]):\r\n",
    "        roots[i] = int(roots[i])\r\n",
    "        if polynomialOG.deriv(2)(roots[i]) <0 and 0<  int(roots[i]) and int(roots[i])<length: \r\n",
    "            localMaxima.append(int(roots[i]))\r\n",
    "        if polynomialOG.deriv(2)(roots[i]) >0 and 0 <  int(roots[i]) and int(roots[i])<length:\r\n",
    "            localMinima.append(int(roots[i]))\r\n",
    "    x_line = arange(min(x), max(x), .01)\r\n",
    "    y_line = objective(x_line, a, b, c,d,e,f,g,h,i,j,k)\r\n",
    "    # print('The polynomials equation is : y = %.5f * x + %.5f * x^2 + %.5f *x^3 +%.5f * x^4 + %.5f * x^5 +  %.5f *x^6 +%.5f * x^7 + %.5f * x^8 + %.5f '  % (a, b, c,d,e,f,g,h,i))\r\n",
    "    x_deriv = arange(min(x), max(x), .01)\r\n",
    "    y_deriv = derivative(x_line, a, b, c,d,e,f,g,h,i,j,k)\r\n",
    "    # ### The below code then stores the calculated polynomial coefficients into a list, and converts it into a numpy 1 dimensional polynomial datatype. From there numpy has a built in zeroes function that will calculate the roots. \r\n",
    "    localMaxima  = list(set(localMaxima))\r\n",
    "    localMinima  = list(set(localMinima))\r\n",
    "\r\n",
    "    return coeff,localMaxima,localMinima,x,y\r\n",
    "\r\n",
    "stateAnalysis = zeroFinder(state)"
   ],
   "outputs": [
    {
     "output_type": "stream",
     "name": "stderr",
     "text": [
      "<ipython-input-9-62960bc9b79c>:28: ComplexWarning: Casting complex values to real discards the imaginary part\n",
      "  roots[i] = int(roots[i])\n",
      "<ipython-input-9-62960bc9b79c>:29: ComplexWarning: Casting complex values to real discards the imaginary part\n",
      "  if polynomialOG.deriv(2)(roots[i]) <0 and 0<  int(roots[i]) and int(roots[i])<length:\n",
      "<ipython-input-9-62960bc9b79c>:30: ComplexWarning: Casting complex values to real discards the imaginary part\n",
      "  localMaxima.append(int(roots[i]))\n",
      "<ipython-input-9-62960bc9b79c>:31: ComplexWarning: Casting complex values to real discards the imaginary part\n",
      "  if polynomialOG.deriv(2)(roots[i]) >0 and 0 <  int(roots[i]) and int(roots[i])<length:\n",
      "<ipython-input-9-62960bc9b79c>:32: ComplexWarning: Casting complex values to real discards the imaginary part\n",
      "  localMinima.append(int(roots[i]))\n"
     ]
    }
   ],
   "metadata": {}
  },
  {
   "cell_type": "markdown",
   "source": [
    "### Python's built in int() function severes imaginary components, so the range of the lists first dimention's length is iterated through to remove the imaginary pieces. Everything is then split into two graphs, and plotted. The red lines indicate a local maxima, while the blue indicate a minima"
   ],
   "metadata": {}
  },
  {
   "cell_type": "markdown",
   "source": [
    "### Making a simple function to convert an integer array into its corresponding dates"
   ],
   "metadata": {}
  },
  {
   "cell_type": "code",
   "execution_count": 10,
   "source": [
    "\r\n",
    "def arrayNumToDate(arr):\r\n",
    "    for i in range(len(arr)):\r\n",
    "        arr[i] = dateCounterReverse(arr[i])\r\n",
    "        convert = str(arr[i][0])+'/'+str(arr[i][1])+'/'+str(arr[i][2])\r\n",
    "        arr[i] = convert\r\n",
    "    return arr\r\n",
    "\r\n"
   ],
   "outputs": [],
   "metadata": {}
  },
  {
   "cell_type": "markdown",
   "source": [
    "# Creating Plotting Function\r\n",
    "### Takes advantedge of all the previously defined functions into one simple plotter"
   ],
   "metadata": {}
  },
  {
   "cell_type": "code",
   "execution_count": 11,
   "source": [
    "import matplotlib.patches as mpatches\r\n",
    "import matplotlib.lines as mlines\r\n",
    "def PolyCoefficients(x, coeffs):\r\n",
    "    \"\"\" Returns a polynomial for ``x`` values for the ``coeffs`` provided.\r\n",
    "\r\n",
    "    The coefficients must be in ascending order (``x**0`` to ``x**o``).\r\n",
    "    \"\"\"\r\n",
    "    o = len(coeffs)\r\n",
    "    y = 0\r\n",
    "    for i in range(o):\r\n",
    "        y += coeffs[i]*x**i\r\n",
    "    return y\r\n",
    "\r\n",
    "\r\n",
    "def plotStateInfo(state):\r\n",
    "    stateAnalysis = zeroFinder(state)\r\n",
    "    x= stateAnalysis[3]\r\n",
    "    y = stateAnalysis[4]\r\n",
    "    coeff = stateAnalysis[0]\r\n",
    "    localMaxima  = stateAnalysis[1]\r\n",
    "    localMinima  = stateAnalysis[2]\r\n",
    "    print(localMaxima)\r\n",
    "    print(localMinima)\r\n",
    "\r\n",
    "    # Deleting doubles\r\n",
    "    for i in range(len(localMaxima)):\r\n",
    "        ply.axvline(x=localMaxima[i],color = 'black')\r\n",
    "    for i in range(len(localMinima)):\r\n",
    "        ply.axvline(x=localMinima[i],color = 'blue')\r\n",
    "    ply.plot(x, y,color = 'red', label = '7 Day Average')\r\n",
    "    ply.scatter(stateCases(state)[1],stateCases(state)[0],color = 'pink', label = 'Daily cases')\r\n",
    "    # legend stuff\r\n",
    "    ply.title(state + ' COVID-19 cases ')\r\n",
    "    black_patch = mpatches.Patch(color='black', label='Peak Wave')\r\n",
    "    grey_patch = mpatches.Patch(color='blue', label='Minimum Dip')\r\n",
    "    red_line = mlines.Line2D([], [], color='red', markersize=15, label='7 Day Average')\r\n",
    "    pink_dots = mlines.Line2D([], [], color='pink',marker ='.', markersize=15, label='Daily Cases')\r\n",
    "    ply.legend(loc=\"upper left\",handles=[red_line,pink_dots,black_patch,grey_patch])\r\n",
    "\r\n",
    "    ply.xlabel(\"Days Since First Track\")\r\n",
    "    x_scatter = np.linspace(0, len(x), 1000)\r\n",
    "    ply.plot(x_scatter,PolyCoefficients(x_scatter, coeff), color = 'black')\r\n",
    "    ply.ylabel(\"Daily Cases\")\r\n",
    "    ply.savefig('filename.png', dpi=300)\r\n",
    "    ply.show()\r\n",
    "    print(arrayNumToDate(localMaxima))\r\n",
    "    print(arrayNumToDate(localMinima))  \r\n",
    "\r\n",
    "\r\n"
   ],
   "outputs": [],
   "metadata": {}
  },
  {
   "cell_type": "code",
   "execution_count": 12,
   "source": [
    "plotStateInfo('TX')\r\n"
   ],
   "outputs": [
    {
     "output_type": "stream",
     "name": "stderr",
     "text": [
      "<ipython-input-9-62960bc9b79c>:28: ComplexWarning: Casting complex values to real discards the imaginary part\n",
      "  roots[i] = int(roots[i])\n",
      "<ipython-input-9-62960bc9b79c>:29: ComplexWarning: Casting complex values to real discards the imaginary part\n",
      "  if polynomialOG.deriv(2)(roots[i]) <0 and 0<  int(roots[i]) and int(roots[i])<length:\n",
      "<ipython-input-9-62960bc9b79c>:30: ComplexWarning: Casting complex values to real discards the imaginary part\n",
      "  localMaxima.append(int(roots[i]))\n",
      "<ipython-input-9-62960bc9b79c>:31: ComplexWarning: Casting complex values to real discards the imaginary part\n",
      "  if polynomialOG.deriv(2)(roots[i]) >0 and 0 <  int(roots[i]) and int(roots[i])<length:\n",
      "<ipython-input-9-62960bc9b79c>:32: ComplexWarning: Casting complex values to real discards the imaginary part\n",
      "  localMinima.append(int(roots[i]))\n"
     ]
    },
    {
     "output_type": "stream",
     "name": "stdout",
     "text": [
      "[98, 5, 510, 263]\n",
      "[168, 386, 43, 428]\n"
     ]
    },
    {
     "output_type": "display_data",
     "data": {
      "image/png": "[encoded data removed]",
      "text/plain": [
       "<Figure size 432x288 with 1 Axes>"
      ]
     },
     "metadata": {
      "needs_background": "light"
     }
    },
    {
     "output_type": "stream",
     "name": "stdout",
     "text": [
      "['4/7/2020', '1/5/2020', '5/24/2021', '9/19/2020']\n",
      "['6/16/2020', '1/20/2021', '2/12/2020', '3/3/2021']\n"
     ]
    }
   ],
   "metadata": {}
  },
  {
   "cell_type": "code",
   "execution_count": 13,
   "source": [
    "stateAbbreviations = ['AL', 'AK', 'AZ', 'AR', 'CA', 'CO', 'CT', 'DE', 'DC', 'FL', 'GA', 'HI', 'ID', 'IL', 'IN', 'IA', 'KS', 'KY', 'LA', 'ME', 'MD', 'MA', 'MI', 'MN', 'MS', 'MO', 'MT', 'NE', 'NV', 'NH', 'NJ', 'NM', 'NY', 'NC', 'ND', 'OH', 'OK', 'OR', 'PA', 'RI', 'SC', 'SD', 'TN', 'TX', 'UT', 'VT', 'VA', 'WA', 'WV', 'WI', 'WY']\r\n"
   ],
   "outputs": [],
   "metadata": {}
  },
  {
   "cell_type": "code",
   "execution_count": 14,
   "source": [
    "totalMaxes = []\r\n",
    "totalMins = []\r\n",
    "for i in range(len(stateAbbreviations)):\r\n",
    "    state = stateAbbreviations[i]\r\n",
    "    x = zeroFinder(state)\r\n",
    "    totalMaxes = totalMaxes+x[1]\r\n",
    "    totalMins = totalMins+x[2]\r\n",
    "    print(i)\r\n",
    "print(totalMaxes)"
   ],
   "outputs": [
    {
     "output_type": "stream",
     "name": "stderr",
     "text": [
      "<ipython-input-9-62960bc9b79c>:28: ComplexWarning: Casting complex values to real discards the imaginary part\n",
      "  roots[i] = int(roots[i])\n",
      "<ipython-input-9-62960bc9b79c>:29: ComplexWarning: Casting complex values to real discards the imaginary part\n",
      "  if polynomialOG.deriv(2)(roots[i]) <0 and 0<  int(roots[i]) and int(roots[i])<length:\n",
      "<ipython-input-9-62960bc9b79c>:30: ComplexWarning: Casting complex values to real discards the imaginary part\n",
      "  localMaxima.append(int(roots[i]))\n",
      "<ipython-input-9-62960bc9b79c>:31: ComplexWarning: Casting complex values to real discards the imaginary part\n",
      "  if polynomialOG.deriv(2)(roots[i]) >0 and 0 <  int(roots[i]) and int(roots[i])<length:\n",
      "<ipython-input-9-62960bc9b79c>:32: ComplexWarning: Casting complex values to real discards the imaginary part\n",
      "  localMinima.append(int(roots[i]))\n"
     ]
    },
    {
     "output_type": "stream",
     "name": "stdout",
     "text": [
      "0\n",
      "1\n",
      "2\n",
      "3\n",
      "4\n",
      "5\n",
      "6\n",
      "7\n",
      "8\n",
      "9\n",
      "10\n",
      "11\n",
      "12\n",
      "13\n",
      "14\n",
      "15\n",
      "16\n",
      "17\n",
      "18\n",
      "19\n",
      "20\n",
      "21\n",
      "22\n",
      "23\n",
      "24\n",
      "25\n",
      "26\n",
      "27\n",
      "28\n",
      "29\n",
      "30\n",
      "31\n",
      "32\n",
      "33\n",
      "34\n",
      "35\n",
      "36\n",
      "37\n",
      "38\n",
      "39\n",
      "40\n",
      "41\n",
      "42\n",
      "43\n",
      "44\n",
      "45\n",
      "46\n",
      "47\n",
      "48\n",
      "49\n",
      "50\n",
      "[3, 6, 94, 505, 254, 394, 234, 510, 4, 260, 421, 503, 88, 97, 5, 501, 254, 256, 5, 421, 499, 87, 504, 240, 397, 86, 264, 503, 506, 261, 14, 95, 106, 18, 268, 503, 498, 99, 268, 505, 98, 5, 263, 5, 110, 366, 503, 223, 512, 406, 239, 235, 396, 77, 18, 504, 15, 242, 404, 87, 507, 227, 397, 510, 96, 419, 13, 243, 506, 509, 5, 400, 250, 93, 496, 99, 12, 261, 513, 68, 6, 70, 265, 256, 1, 15, 84, 503, 505, 266, 19, 113, 505, 380, 228, 73, 228, 390, 503, 5, 395, 499, 252, 93, 235, 500, 401, 226, 508, 69, 398, 230, 96, 426, 12, 503, 252, 6, 71, 263, 506, 382, 505, 287, 375, 81, 242, 406, 503, 292, 501, 88, 257, 5, 502, 392, 210, 512, 13, 407, 89, 250, 4, 430, 246, 504, 95, 4, 393, 245, 505, 90, 256, 388, 19, 506, 93, 504, 256, 392, 264, 505, 5, 94, 217, 515, 390, 5, 397, 246, 503, 93, 98, 5, 510, 263, 89, 427, 244, 510, 89, 314, 316, 501, 266, 6, 87, 511, 10, 395, 505, 250, 93, 515, 5, 398, 86, 252, 506, 397, 223, 232, 81, 514, 410]\n"
     ]
    }
   ],
   "metadata": {}
  },
  {
   "cell_type": "code",
   "execution_count": 15,
   "source": [
    "# totalBegginings = []\r\n",
    "# for i in range(len(stateAbbreviations)):\r\n",
    "#     state = stateAbbreviations[i]\r\n",
    "#     x = zeroFinder(state)[2]\r\n",
    "#     totalBegginings = totalBegginings+x\r\n",
    "#     print(i)\r\n",
    "minDict ={}\r\n",
    "maxDict = {}\r\n",
    "length = (len(totalMins))\r\n",
    "for i in range(len(totalMaxes)):\r\n",
    "    group = int((totalMaxes[i] - totalMaxes[i]%7)/7)\r\n",
    "    if group in maxDict:\r\n",
    "        maxDict[(group)] += 1\r\n",
    "    else:\r\n",
    "        maxDict[group]= 1\r\n",
    "for i in range(length):\r\n",
    "    group = int((totalMins[i] - totalMins[i]%7)/7)\r\n",
    "    if group in minDict:\r\n",
    "        minDict[(group)] += 1\r\n",
    "    else:\r\n",
    "        minDict[group]= 1\r\n",
    "print(minDict)"
   ],
   "outputs": [
    {
     "output_type": "stream",
     "name": "stdout",
     "text": [
      "{52: 7, 5: 8, 61: 4, 22: 2, 63: 11, 13: 3, 48: 9, 1: 6, 23: 5, 65: 11, 53: 3, 62: 4, 21: 11, 7: 8, 64: 17, 15: 5, 16: 2, 4: 5, 54: 5, 9: 3, 59: 1, 2: 4, 25: 1, 55: 5, 49: 3, 18: 3, 50: 4, 0: 9, 12: 4, 51: 6, 17: 1, 20: 1, 58: 2, 66: 1, 19: 5, 42: 1, 46: 2, 6: 3, 14: 2, 3: 2, 11: 2, 44: 1, 24: 3, 57: 1, 10: 1}\n"
     ]
    }
   ],
   "metadata": {}
  },
  {
   "cell_type": "code",
   "execution_count": 16,
   "source": [
    "print(maxDict)\r\n",
    "y = maxDict.keys()\r\n",
    "ply.bar(y,maxDict.values(), color = 'r')\r\n",
    "ply.title('Weeks all states peaked')\r\n",
    "ply.xlabel('Weeks since beggining')\r\n",
    "ply.ylabel('Number of states peaking')\r\n",
    "ply.show()"
   ],
   "outputs": [
    {
     "output_type": "stream",
     "name": "stdout",
     "text": [
      "{0: 20, 13: 12, 72: 24, 36: 10, 56: 13, 33: 4, 37: 9, 60: 3, 71: 17, 12: 12, 34: 6, 2: 7, 15: 2, 38: 4, 14: 4, 52: 1, 31: 3, 73: 7, 58: 4, 11: 3, 57: 3, 32: 5, 59: 1, 1: 5, 35: 6, 70: 1, 9: 2, 10: 3, 16: 1, 54: 2, 55: 3, 41: 2, 53: 1, 30: 1, 61: 2, 44: 1, 45: 1}\n"
     ]
    },
    {
     "output_type": "display_data",
     "data": {
      "image/png": "[encoded data removed]",
      "text/plain": [
       "<Figure size 432x288 with 1 Axes>"
      ]
     },
     "metadata": {
      "needs_background": "light"
     }
    }
   ],
   "metadata": {}
  },
  {
   "cell_type": "code",
   "execution_count": 17,
   "source": [
    "x_min = minDict.values()\r\n",
    "y_min = minDict.keys()\r\n",
    "x_max = maxDict.values()\r\n",
    "y_max = maxDict.keys()\r\n",
    "ply.bar(y_min,x_min, color = 'r', label = \"wave beggining\", alpha = .5)\r\n",
    "ply.bar(y_max,x_max, color = 'b', label = \"wave peak\", alpha = .5)\r\n",
    "ply.legend(loc=\"upper left\")\r\n",
    "ply.title('Wave Data frequency Info')\r\n",
    "ply.xlabel('Weeks since beggining')\r\n",
    "ply.ylabel('Number of states')\r\n",
    "ply.show()\r\n",
    "# Rank the average wave case count, rank in chart"
   ],
   "outputs": [
    {
     "output_type": "display_data",
     "data": {
      "image/png": "[encoded data removed]",
      "text/plain": [
       "<Figure size 432x288 with 1 Axes>"
      ]
     },
     "metadata": {
      "needs_background": "light"
     }
    }
   ],
   "metadata": {}
  },
  {
   "cell_type": "markdown",
   "source": [],
   "metadata": {}
  },
  {
   "cell_type": "markdown",
   "source": [],
   "metadata": {}
  }
 ],
 "metadata": {
  "orig_nbformat": 4,
  "language_info": {
   "name": "python",
   "version": "3.9.6",
   "mimetype": "text/x-python",
   "codemirror_mode": {
    "name": "ipython",
    "version": 3
   },
   "pygments_lexer": "ipython3",
   "nbconvert_exporter": "python",
   "file_extension": ".py"
  },
  "kernelspec": {
   "name": "python3",
   "display_name": "Python 3.9.6 64-bit"
  },
  "interpreter": {
   "hash": "03b31e0dbf5ee774e49906e1a4e99cf39d3bc46df0e15af7b9d16b1e9b24f047"
  }
 },
 "nbformat": 4,
 "nbformat_minor": 2
}