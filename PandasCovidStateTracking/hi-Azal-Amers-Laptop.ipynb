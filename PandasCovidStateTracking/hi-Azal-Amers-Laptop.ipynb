{
 "cells": [
  {
   "cell_type": "code",
   "execution_count": 10,
   "source": [
    "alphabet = \"abcdefghijklmnopqrstuvwxyz\"\r\n",
    "inputString = \"hello\"\r\n",
    "numberPos = []\r\n",
    "def DecimalToBinary(num):\r\n",
    "     \r\n",
    "    if num >= 1:\r\n",
    "        DecimalToBinary(num // 2)\r\n",
    "    returned = (num % 2)\r\n",
    "    return returned\r\n",
    " \r\n",
    "# Driver Code\r\n",
    "if __name__ == '__main__':\r\n",
    "    for i in inputString:\r\n",
    "\r\n",
    "     \r\n",
    "    # decimal value\r\n",
    "     \r\n",
    "    # Calling function\r\n",
    "        numberPos.append(DecimalToBinary(alphabet.index(i)))\r\n",
    "    print(numberPos)\r\n"
   ],
   "outputs": [
    {
     "output_type": "stream",
     "name": "stdout",
     "text": [
      "[1, 0, 1, 1, 0]\n"
     ]
    }
   ],
   "metadata": {}
  }
 ],
 "metadata": {
  "orig_nbformat": 4,
  "language_info": {
   "name": "python",
   "version": "3.9.6",
   "mimetype": "text/x-python",
   "codemirror_mode": {
    "name": "ipython",
    "version": 3
   },
   "pygments_lexer": "ipython3",
   "nbconvert_exporter": "python",
   "file_extension": ".py"
  },
  "kernelspec": {
   "name": "python3",
   "display_name": "Python 3.9.6 64-bit"
  },
  "interpreter": {
   "hash": "03b31e0dbf5ee774e49906e1a4e99cf39d3bc46df0e15af7b9d16b1e9b24f047"
  }
 },
 "nbformat": 4,
 "nbformat_minor": 2
}