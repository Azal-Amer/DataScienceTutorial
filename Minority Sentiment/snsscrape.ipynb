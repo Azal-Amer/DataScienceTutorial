{
 "cells": [
  {
   "cell_type": "code",
   "execution_count": null,
   "metadata": {},
   "outputs": [],
   "source": [
    "from pathlib import Path  \n",
    "import os\n",
    "file_dir = Path.cwd()\n",
    "def getCountyInfo(state):\n",
    "    data = []\n",
    "    csv_folder = 'State information'\n",
    "    file_path = os.path.join(file_dir, csv_folder, (state+'.csv'))\n",
    "    if((Path.cwd() / csv_folder /(state+'.csv')).exists()):\n",
    "        data = pd.read_csv(file_path)\n",
    "    return data"
   ]
  },
  {
   "cell_type": "code",
   "execution_count": 3,
   "metadata": {},
   "outputs": [
    {
     "ename": "NameError",
     "evalue": "name 'getCountyInfo' is not defined",
     "output_type": "error",
     "traceback": [
      "\u001b[1;31m---------------------------------------------------------------------------\u001b[0m",
      "\u001b[1;31mNameError\u001b[0m                                 Traceback (most recent call last)",
      "\u001b[1;32m<ipython-input-3-dd2f4f7fc532>\u001b[0m in \u001b[0;36m<module>\u001b[1;34m\u001b[0m\n\u001b[0;32m      5\u001b[0m \u001b[1;31m# Creating list to append tweet data to\u001b[0m\u001b[1;33m\u001b[0m\u001b[1;33m\u001b[0m\u001b[1;33m\u001b[0m\u001b[0m\n\u001b[0;32m      6\u001b[0m \u001b[0mtweets_list2\u001b[0m \u001b[1;33m=\u001b[0m \u001b[1;33m[\u001b[0m\u001b[1;33m]\u001b[0m\u001b[1;33m\u001b[0m\u001b[1;33m\u001b[0m\u001b[0m\n\u001b[1;32m----> 7\u001b[1;33m \u001b[0mcountyDF\u001b[0m \u001b[1;33m=\u001b[0m \u001b[0mgetCountyInfo\u001b[0m\u001b[1;33m(\u001b[0m\u001b[1;34m'Texas'\u001b[0m\u001b[1;33m)\u001b[0m\u001b[1;33m\u001b[0m\u001b[1;33m\u001b[0m\u001b[0m\n\u001b[0m\u001b[0;32m      8\u001b[0m \u001b[0mkeyword\u001b[0m \u001b[1;33m=\u001b[0m \u001b[1;34m'transgender'\u001b[0m\u001b[1;33m\u001b[0m\u001b[1;33m\u001b[0m\u001b[0m\n\u001b[0;32m      9\u001b[0m \u001b[0mcounty\u001b[0m \u001b[1;33m=\u001b[0m \u001b[1;34m'TRAVIS'\u001b[0m\u001b[1;33m\u001b[0m\u001b[1;33m\u001b[0m\u001b[0m\n",
      "\u001b[1;31mNameError\u001b[0m: name 'getCountyInfo' is not defined"
     ]
    }
   ],
   "source": [
    "import snscrape as sntwitter\n",
    "import pandas as pd\n",
    "import numpy as np\n",
    "import ast\n",
    "# Creating list to append tweet data to\n",
    "tweets_list2 = []\n",
    "countyDF = getCountyInfo('Texas')\n",
    "keyword = 'transgender'\n",
    "county = 'TRAVIS'\n",
    "coordinates = (countyDF.loc[countyDF['County'] == county]['Coordinates'])\n",
    "print(coordinates)\n",
    "coordinates = np.array(coordinates.values.tolist())[0]\n",
    "coordinates = ast.literal_eval(coordinates)\n",
    "lat = coordinates[0]\n",
    "longi = coordinates[1]\n",
    "miles = [countyDF.loc[countyDF['County'] == county]['Radius (mi)'].values[0]][0]\n",
    "geocode = 'geocode:' + str(coordinates[0]) + ',' + str(coordinates[1]) + ',' + str(miles) + 'mi'\n",
    "print(geocode)\n",
    "# Using TwitterSearchScraper to scrape data and append tweets to list\n",
    "for i,tweet in enumerate(sntwitter.TwitterSearchScraper(keyword + ' '+ geocode).get_items()):\n",
    "    print(i)\n",
    "    if i>200:\n",
    "        break\n",
    "    tweets_list2.append([tweet.date, tweet.id, tweet.content, tweet.user.username])\n",
    "    \n",
    "# Creating a dataframe from the tweets list above\n",
    "tweets_df2 = pd.DataFrame(tweets_list2, columns=['Datetime', 'Tweet Id', 'Text', 'Username'])\n",
    "print(tweets_df2)"
   ]
  },
  {
   "cell_type": "code",
   "execution_count": 17,
   "metadata": {},
   "outputs": [
    {
     "name": "stdout",
     "output_type": "stream",
     "text": [
      "                   Datetime             Tweet Id  \\\n",
      "0 2021-11-16 14:30:58+00:00  1460616388775759872   \n",
      "1 2021-11-16 13:35:49+00:00  1460602508024426501   \n",
      "2 2021-11-16 12:53:03+00:00  1460591747495612425   \n",
      "3 2021-11-16 06:38:26+00:00  1460497473076703234   \n",
      "4 2021-11-16 02:34:10+00:00  1460435998358261766   \n",
      "\n",
      "                                                Text     Username  \n",
      "0  @GregAbbott_TX @RyanGuillen Opportunity? Banni...  smsellinger  \n",
      "1  @NicoleAMaines and @MelissaBenoist made the NY...      happykt  \n",
      "2  @WajahatAli Texas recently banned transgender ...  ToddGernert  \n",
      "3  Gender Dysphoria will be part of @Lolon_Online...   exodrifter  \n",
      "4  @justinaholland Unless the life is an immigran...  smsellinger  \n"
     ]
    }
   ],
   "source": [
    "print(tweets_df2.head())"
   ]
  }
 ],
 "metadata": {
  "interpreter": {
   "hash": "89075c8537ace93f0363b815cca8d9001f289457af7681290e2f56bc0246b22f"
  },
  "kernelspec": {
   "display_name": "Python 3.9.6 64-bit",
   "language": "python",
   "name": "python3"
  },
  "language_info": {
   "codemirror_mode": {
    "name": "ipython",
    "version": 3
   },
   "file_extension": ".py",
   "mimetype": "text/x-python",
   "name": "python",
   "nbconvert_exporter": "python",
   "pygments_lexer": "ipython3",
   "version": "3.9.6"
  },
  "orig_nbformat": 4
 },
 "nbformat": 4,
 "nbformat_minor": 2
}
