{
 "cells": [
  {
   "cell_type": "code",
   "execution_count": 253,
   "metadata": {},
   "outputs": [],
   "source": [
    "import matplotlib.pyplot as plt\n",
    "import pandas as pd\n",
    "import json\n",
    "import os\n",
    "import numpy as np\n",
    "from pathlib import Path  # python3 only\n",
    "import math,datetime\n",
    "from sklearn.preprocessing import StandardScaler\n",
    "scaler = StandardScaler()\n",
    "state = 'Texas'\n",
    "keyword = 'transgender'\n",
    "year = str(2021)\n",
    "currentYear = datetime.datetime.now().year\n"
   ]
  },
  {
   "cell_type": "code",
   "execution_count": 254,
   "metadata": {},
   "outputs": [],
   "source": [
    "# keyWords = ['China','black people','immigrant','muslim','transgender','gay','asian','chinese']\n",
    "keyWords = ['black people','China']\n",
    "# keyWords = ['immigrant','transgender','muslim']"
   ]
  },
  {
   "cell_type": "code",
   "execution_count": 255,
   "metadata": {},
   "outputs": [],
   "source": [
    "averageSentKeyword = {}\n",
    "mentionsKeyword = {}\n",
    "# MENTIONSKEYWORD is the frequency of mentions year by year of the given term\n",
    "startYear = 2010\n",
    "# Start year is the year you want to begin construction of the graph\n",
    "yearList = []\n",
    "for year in range(startYear,currentYear+1):\n",
    "    year = str(year)\n",
    "    yearList.append(int(year))\n",
    "for keyword in keyWords:\n",
    "    \n",
    "    averageSentimentOverTime = []\n",
    "    json_folder = 'Keyword State'\n",
    "    file_dir = Path.cwd()\n",
    "    file_path = os.path.join(file_dir, json_folder, (((state) + \" on the term \" + keyword +'.json')))\n",
    "    shape_dir = os.path.join(file_dir, 'Shapes', 'United States','USA_Counties.shx')\n",
    "    # Okay turn the dictionary into a dataframe where one column is filled with keys, and the other column is the first value in the dictionary\n",
    "    f = open(file_path, 'r')\n",
    "    state_dict = json.load(f)\n",
    "    stateDF = pd.DataFrame.from_dict(state_dict, orient='index')\n",
    "    stateDF.reset_index(inplace=True)\n",
    "    # stateDF = stateDF[[0,1,2]]\n",
    "    stateDF.rename(columns={'index': 'County', 0 :'# of Tweets',1:'score',2:'Time'}, inplace=True)\n",
    "    timeDF = pd.json_normalize(stateDF['Time'])\n",
    "    stateDF.drop('Time',axis = 1,inplace= True)\n",
    "    maxCount = timeDF[list(timeDF.filter(regex=('count')))].max().max()\n",
    "    for year in range(startYear,currentYear+1):\n",
    "        year = str(year)\n",
    "        if(len(list(timeDF.filter(regex=year)))>0):\n",
    "            \n",
    "            slicetimeDF = timeDF[list(timeDF.filter(regex=('County|' + year+'.comp|' + year+'.count')))]\n",
    "            county=timeDF[list(timeDF.filter(regex=('County|' + year+'.count')))]\n",
    "            stateDF = pd.concat([stateDF['County'], slicetimeDF], axis=1)\n",
    "            stateDF.rename(columns= {stateDF.columns[1]:'# of Tweets',stateDF.columns[2]:'score'}, inplace=True)\n",
    "            json_folder = 'Keyword State'\n",
    "            file_dir = Path.cwd()\n",
    "            file_path = os.path.join(file_dir, json_folder, (((state) + \" on the term \" + keyword +'.json')))\n",
    "\n",
    "            # Okay turn the dictionary into a dataframe where one column is filled with keys, and the other column is the first value in the dictionary\n",
    "            f = open(file_path, 'r')\n",
    "            score = []\n",
    "            j=0\n",
    "\n",
    "            #-------------------------------------\n",
    "            #-------------------------------------\n",
    "            # AVERAGE SENT. AND TOTAL POP.\n",
    "            # get the sum of all values in a column\n",
    "            totalTweets = stateDF.iloc[:, 1].sum()\n",
    "            averageSentiment = 0\n",
    "            k=0\n",
    "            for score in stateDF['score']:\n",
    "                if(math.isnan(score)==False):\n",
    "                    # multiply all values in the score column by the corresponding value in the population column\n",
    "                    averageSentiment += score * stateDF.iat[k,1]\n",
    "                k+=1\n",
    "            averageSentiment=averageSentiment/totalTweets\n",
    "            \n",
    "            averageSentimentOverTime.append([averageSentiment,int(year)])\n",
    "            # Average sentiment overtime is a single index for a specific keyword, which then gets dumped into averageSentKeyword\n",
    "\n",
    "        \n",
    "        totalTweets = stateDF.iloc[:, 1].sum()\n",
    "        if keyword in mentionsKeyword:\n",
    "            mentionsKeyword[keyword].append([totalTweets,int(year)])\n",
    "        else:\n",
    "            mentionsKeyword[keyword] = [[totalTweets,int(year)]]\n",
    "    \n",
    "    a, b = zip(*averageSentimentOverTime)\n",
    "    averageSentKeyword[keyword] = a\n",
    "    # plt.plot(b,a,label = keyword)\n",
    "\n",
    "# np.vstack(averageSentimentOverTime,yearList)\n",
    "\n",
    "\n",
    "\n",
    "SentimentYear = {}\n",
    "topKeys = averageSentKeyword.keys()\n",
    "for i in range(len(averageSentKeyword.values())):\n",
    "    # averageSentKeyword.values()[i]\n",
    "    sentiment = list(list(averageSentKeyword.values())[i])\n",
    "    for j in range(len(yearList)):\n",
    "        if yearList[j] in SentimentYear:\n",
    "            \n",
    "            SentimentYear[yearList[j]].append(list(sentiment)[j])\n",
    "        else:\n",
    "            SentimentYear[yearList[j]] = [list(sentiment)[j]]\n",
    "            # Sentiment year is the sorted matrix which is passed through the normalizing function\n",
    "            # The columns are a measure of the given year\n",
    "            # The rows are the different keywords\n",
    "topKeys = list(topKeys)\n",
    "# normalizedSentiment =  scaler.fit_transform(list(SentimentYear.values()))\n",
    "NormalizedData =pd.DataFrame(SentimentYear.values(),index=SentimentYear.keys(),columns=topKeys)\n",
    "# NormalizedData.rename(topKeys,inplace=True)\n",
    "remappedData = []\n",
    "for i in range(len(NormalizedData.columns)):\n",
    "    testData = NormalizedData[[topKeys[i]]].values.tolist()\n",
    "    a = testData\n",
    "    a=list(a)\n",
    "    # a= np.column_stack((a,yearList)).tolist()\n",
    "    # Merge the list \"a\" and the liat 'yearList' as if they were two columns in a matrix\n",
    "    # \"a\" is a list of n-arrays (each array is a data row), \"yearList\" is a list of integers\n",
    "\n",
    "    remappedData.append(list(a))\n"
   ]
  },
  {
   "cell_type": "code",
   "execution_count": 256,
   "metadata": {},
   "outputs": [],
   "source": [
    "from scipy.stats.stats import pearsonr\n",
    "k=0\n",
    "# The phrases muslim,transgender,and immigrant are STRONGLY correlated, with the max distance between muslim and immigrant,minimum distance between immigrant and transgender\n",
    "def correlationWords(words):\n",
    "    word1,word2=words[0],words[1]\n",
    "    # find the index of word1 in keyWords\n",
    "\n",
    "\n",
    "    y_1,=zip(*(remappedData[keyWords.index(word1)]))\n",
    "    \n",
    "    y_2, = zip(*(remappedData[keyWords.index(word2)]))\n",
    "    # word1='transgender'\n",
    "    # word2='immigrant'\n",
    "    x_2,y = zip(*mentionsKeyword[word1])\n",
    "    x_1,y = zip(*mentionsKeyword[word2])\n",
    "\n",
    "    # x_1,=zip(*(remappedData[k]))\n",
    "    # print(len(list(x_1)))\n",
    "    # print(len(list(x_2)))\n",
    "    sentiment=list((pearsonr(x_1,x_2)))\n",
    "    mentions = list((pearsonr(y_1,y_2)))\n",
    "    return sentiment,mentions"
   ]
  },
  {
   "cell_type": "code",
   "execution_count": 257,
   "metadata": {},
   "outputs": [
    {
     "name": "stdout",
     "output_type": "stream",
     "text": [
      "||black people and China||'s p-val: 0.0, correlation: 0.93222\n"
     ]
    }
   ],
   "source": [
    "import itertools\n",
    "import scipy.stats\n",
    "keywordPairCombinations = list(itertools.combinations(keyWords, 2))\n",
    "for pair in keywordPairCombinations:\n",
    "    sentiment,mentions=correlationWords(pair)\n",
    "    r_s=round(sentiment[1],5)\n",
    "    c_s=round(sentiment[0],5)\n",
    "    r_m = round(mentions[1],5)\n",
    "    c_m = round(mentions[0],5)\n",
    "    if r_s<0.05 and r_m<.05:\n",
    "        r=scipy.stats.combine_pvalues([r_s,r_m], method='fisher', weights=None)\n",
    "        r=round(r[1],5)\n",
    "        c=round((c_s+c_m)/2,5)\n",
    "        print('||'+str(pair[0]) + ' and ' + pair[1] + '||\\'s p-val: ' + str(r) + ', correlation: ' + str(c))\n",
    "\n"
   ]
  },
  {
   "cell_type": "code",
   "execution_count": 258,
   "metadata": {},
   "outputs": [
    {
     "name": "stdout",
     "output_type": "stream",
     "text": [
      "||Black people|| sentiment vs mentions p-val:0.00056 correlation:-0.84359\n",
      "||China|| sentiment vs mentions p-val:1e-05 correlation:-0.93006\n"
     ]
    },
    {
     "data": {
      "image/png": "[encoded data removed]",
      "text/plain": [
       "<Figure size 432x288 with 2 Axes>"
      ]
     },
     "metadata": {
      "needs_background": "light"
     },
     "output_type": "display_data"
    },
    {
     "data": {
      "text/plain": [
       "<Figure size 1080x2160 with 0 Axes>"
      ]
     },
     "metadata": {},
     "output_type": "display_data"
    }
   ],
   "source": [
    "fig, (ax1,ax2) = plt.subplots(2)\n",
    "fig.suptitle('Texas Minority Sentiment')\n",
    "ax1.set_ylabel('Annual Sentiment')\n",
    "ax2.set_ylabel('Annual Mentions')\n",
    "ax1.set_yticks(np.arange(-.3, .1+.1, .1))\n",
    "ax2.set_yticks(np.arange(0, 100000+10000, 10000*.75))\n",
    "for i in range(len(topKeys)):topKeys[i] = topKeys[i].capitalize()\n",
    "for i in range(len(remappedData)):\n",
    "    x_2,y = zip(*mentionsKeyword[keyWords[i]])\n",
    "    x_1,=zip(*(remappedData[i]))\n",
    "    ax1.plot(yearList,x_1,label = topKeys[i])\n",
    "    ax2.plot(y,x_2)\n",
    "    if (pearsonr(x_1,x_2)[1]<.05):\n",
    "        print('||' + topKeys[i] + '|| sentiment vs mentions p-val:' + str(round(pearsonr(x_1,x_2)[1],5)) + ' correlation:'+ str(round(pearsonr(x_1,x_2)[0],5)))\n",
    "\n",
    "plt.figure(figsize=(15,30))\n",
    "fig.legend()\n",
    "fig.savefig('Texas Cumulitive Minority Analysis.png',dpi = 100,facecolor='w', edgecolor='w',orientation='landscape',transparent=False, bbox_inches='tight', pad_inches=0.1)\n",
    "\n"
   ]
  }
 ],
 "metadata": {
  "interpreter": {
   "hash": "89075c8537ace93f0363b815cca8d9001f289457af7681290e2f56bc0246b22f"
  },
  "kernelspec": {
   "display_name": "Python 3.9.6 64-bit",
   "language": "python",
   "name": "python3"
  },
  "language_info": {
   "codemirror_mode": {
    "name": "ipython",
    "version": 3
   },
   "file_extension": ".py",
   "mimetype": "text/x-python",
   "name": "python",
   "nbconvert_exporter": "python",
   "pygments_lexer": "ipython3",
   "version": "3.9.6"
  },
  "orig_nbformat": 4
 },
 "nbformat": 4,
 "nbformat_minor": 2
}
