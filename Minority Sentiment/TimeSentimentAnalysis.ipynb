{
 "cells": [
  {
   "cell_type": "code",
   "execution_count": 573,
   "metadata": {},
   "outputs": [],
   "source": [
    "import matplotlib.pyplot as plt\n",
    "import pandas as pd\n",
    "import json\n",
    "import os\n",
    "import numpy as np\n",
    "from pathlib import Path  # python3 only\n",
    "import math,datetime\n",
    "from sklearn.preprocessing import StandardScaler\n",
    "scaler = StandardScaler()\n",
    "state = 'Texas'\n",
    "keyword = 'transgender'\n",
    "year = str(2021)\n",
    "currentYear = datetime.datetime.now().year\n"
   ]
  },
  {
   "cell_type": "code",
   "execution_count": 574,
   "metadata": {},
   "outputs": [],
   "source": [
    "keyWords = ['China','black people','gay','immigrant','muslim','transgender']"
   ]
  },
  {
   "cell_type": "code",
   "execution_count": 575,
   "metadata": {},
   "outputs": [
    {
     "name": "stderr",
     "output_type": "stream",
     "text": [
      "No handles with labels found to put in legend.\n"
     ]
    },
    {
     "ename": "ValueError",
     "evalue": "Shape of passed values is (12, 6), indices imply (6, 6)",
     "output_type": "error",
     "traceback": [
      "\u001b[1;31m---------------------------------------------------------------------------\u001b[0m",
      "\u001b[1;31mValueError\u001b[0m                                Traceback (most recent call last)",
      "\u001b[1;32m~\\AppData\\Local\\Temp/ipykernel_22488/2497685230.py\u001b[0m in \u001b[0;36m<module>\u001b[1;34m\u001b[0m\n\u001b[0;32m     80\u001b[0m \u001b[0mdf\u001b[0m \u001b[1;33m=\u001b[0m \u001b[0mpd\u001b[0m\u001b[1;33m.\u001b[0m\u001b[0mDataFrame\u001b[0m\u001b[1;33m(\u001b[0m\u001b[0mSentimentYear\u001b[0m\u001b[1;33m,\u001b[0m\u001b[0mindex\u001b[0m\u001b[1;33m=\u001b[0m\u001b[0mkeys\u001b[0m\u001b[1;33m)\u001b[0m\u001b[1;33m\u001b[0m\u001b[1;33m\u001b[0m\u001b[0m\n\u001b[0;32m     81\u001b[0m \u001b[0mnormalizedSentiment\u001b[0m \u001b[1;33m=\u001b[0m  \u001b[0mscaler\u001b[0m\u001b[1;33m.\u001b[0m\u001b[0mfit_transform\u001b[0m\u001b[1;33m(\u001b[0m\u001b[0mlist\u001b[0m\u001b[1;33m(\u001b[0m\u001b[0mSentimentYear\u001b[0m\u001b[1;33m.\u001b[0m\u001b[0mvalues\u001b[0m\u001b[1;33m(\u001b[0m\u001b[1;33m)\u001b[0m\u001b[1;33m)\u001b[0m\u001b[1;33m)\u001b[0m\u001b[1;33m\u001b[0m\u001b[1;33m\u001b[0m\u001b[0m\n\u001b[1;32m---> 82\u001b[1;33m \u001b[0mNormalizedData\u001b[0m \u001b[1;33m=\u001b[0m\u001b[0mpd\u001b[0m\u001b[1;33m.\u001b[0m\u001b[0mDataFrame\u001b[0m\u001b[1;33m(\u001b[0m\u001b[0mnormalizedSentiment\u001b[0m\u001b[1;33m,\u001b[0m\u001b[0mindex\u001b[0m\u001b[1;33m=\u001b[0m\u001b[0mkeys\u001b[0m\u001b[1;33m)\u001b[0m\u001b[1;33m\u001b[0m\u001b[1;33m\u001b[0m\u001b[0m\n\u001b[0m\u001b[0;32m     83\u001b[0m \u001b[0mremappedData\u001b[0m \u001b[1;33m=\u001b[0m \u001b[1;33m[\u001b[0m\u001b[1;33m]\u001b[0m\u001b[1;33m\u001b[0m\u001b[1;33m\u001b[0m\u001b[0m\n\u001b[0;32m     84\u001b[0m \u001b[0mprint\u001b[0m\u001b[1;33m(\u001b[0m\u001b[0mlen\u001b[0m\u001b[1;33m(\u001b[0m\u001b[0mNormalizedData\u001b[0m\u001b[1;33m.\u001b[0m\u001b[0mcolumns\u001b[0m\u001b[1;33m)\u001b[0m\u001b[1;33m)\u001b[0m\u001b[1;33m\u001b[0m\u001b[1;33m\u001b[0m\u001b[0m\n",
      "\u001b[1;32m~\\AppData\\Local\\Programs\\Python\\Python39\\lib\\site-packages\\pandas\\core\\frame.py\u001b[0m in \u001b[0;36m__init__\u001b[1;34m(self, data, index, columns, dtype, copy)\u001b[0m\n\u001b[0;32m    670\u001b[0m                 )\n\u001b[0;32m    671\u001b[0m             \u001b[1;32melse\u001b[0m\u001b[1;33m:\u001b[0m\u001b[1;33m\u001b[0m\u001b[1;33m\u001b[0m\u001b[0m\n\u001b[1;32m--> 672\u001b[1;33m                 mgr = ndarray_to_mgr(\n\u001b[0m\u001b[0;32m    673\u001b[0m                     \u001b[0mdata\u001b[0m\u001b[1;33m,\u001b[0m\u001b[1;33m\u001b[0m\u001b[1;33m\u001b[0m\u001b[0m\n\u001b[0;32m    674\u001b[0m                     \u001b[0mindex\u001b[0m\u001b[1;33m,\u001b[0m\u001b[1;33m\u001b[0m\u001b[1;33m\u001b[0m\u001b[0m\n",
      "\u001b[1;32m~\\AppData\\Local\\Programs\\Python\\Python39\\lib\\site-packages\\pandas\\core\\internals\\construction.py\u001b[0m in \u001b[0;36mndarray_to_mgr\u001b[1;34m(values, index, columns, dtype, copy, typ)\u001b[0m\n\u001b[0;32m    322\u001b[0m     )\n\u001b[0;32m    323\u001b[0m \u001b[1;33m\u001b[0m\u001b[0m\n\u001b[1;32m--> 324\u001b[1;33m     \u001b[0m_check_values_indices_shape_match\u001b[0m\u001b[1;33m(\u001b[0m\u001b[0mvalues\u001b[0m\u001b[1;33m,\u001b[0m \u001b[0mindex\u001b[0m\u001b[1;33m,\u001b[0m \u001b[0mcolumns\u001b[0m\u001b[1;33m)\u001b[0m\u001b[1;33m\u001b[0m\u001b[1;33m\u001b[0m\u001b[0m\n\u001b[0m\u001b[0;32m    325\u001b[0m \u001b[1;33m\u001b[0m\u001b[0m\n\u001b[0;32m    326\u001b[0m     \u001b[1;32mif\u001b[0m \u001b[0mtyp\u001b[0m \u001b[1;33m==\u001b[0m \u001b[1;34m\"array\"\u001b[0m\u001b[1;33m:\u001b[0m\u001b[1;33m\u001b[0m\u001b[1;33m\u001b[0m\u001b[0m\n",
      "\u001b[1;32m~\\AppData\\Local\\Programs\\Python\\Python39\\lib\\site-packages\\pandas\\core\\internals\\construction.py\u001b[0m in \u001b[0;36m_check_values_indices_shape_match\u001b[1;34m(values, index, columns)\u001b[0m\n\u001b[0;32m    391\u001b[0m         \u001b[0mpassed\u001b[0m \u001b[1;33m=\u001b[0m \u001b[0mvalues\u001b[0m\u001b[1;33m.\u001b[0m\u001b[0mshape\u001b[0m\u001b[1;33m\u001b[0m\u001b[1;33m\u001b[0m\u001b[0m\n\u001b[0;32m    392\u001b[0m         \u001b[0mimplied\u001b[0m \u001b[1;33m=\u001b[0m \u001b[1;33m(\u001b[0m\u001b[0mlen\u001b[0m\u001b[1;33m(\u001b[0m\u001b[0mindex\u001b[0m\u001b[1;33m)\u001b[0m\u001b[1;33m,\u001b[0m \u001b[0mlen\u001b[0m\u001b[1;33m(\u001b[0m\u001b[0mcolumns\u001b[0m\u001b[1;33m)\u001b[0m\u001b[1;33m)\u001b[0m\u001b[1;33m\u001b[0m\u001b[1;33m\u001b[0m\u001b[0m\n\u001b[1;32m--> 393\u001b[1;33m         \u001b[1;32mraise\u001b[0m \u001b[0mValueError\u001b[0m\u001b[1;33m(\u001b[0m\u001b[1;34mf\"Shape of passed values is {passed}, indices imply {implied}\"\u001b[0m\u001b[1;33m)\u001b[0m\u001b[1;33m\u001b[0m\u001b[1;33m\u001b[0m\u001b[0m\n\u001b[0m\u001b[0;32m    394\u001b[0m \u001b[1;33m\u001b[0m\u001b[0m\n\u001b[0;32m    395\u001b[0m \u001b[1;33m\u001b[0m\u001b[0m\n",
      "\u001b[1;31mValueError\u001b[0m: Shape of passed values is (12, 6), indices imply (6, 6)"
     ]
    },
    {
     "data": {
      "image/png": "[encoded data removed]",
      "text/plain": [
       "<Figure size 432x288 with 1 Axes>"
      ]
     },
     "metadata": {
      "needs_background": "light"
     },
     "output_type": "display_data"
    }
   ],
   "source": [
    "averageSentKeyword = {}\n",
    "for keyword in keyWords:\n",
    "    yearList = []\n",
    "    averageSentimentOverTime = []\n",
    "    json_folder = 'Keyword State'\n",
    "    file_dir = Path.cwd()\n",
    "    file_path = os.path.join(file_dir, json_folder, (((state) + \" on the term \" + keyword +'.json')))\n",
    "    shape_dir = os.path.join(file_dir, 'Shapes', 'United States','USA_Counties.shx')\n",
    "    # Okay turn the dictionary into a dataframe where one column is filled with keys, and the other column is the first value in the dictionary\n",
    "    f = open(file_path, 'r')\n",
    "    state_dict = json.load(f)\n",
    "    stateDF = pd.DataFrame.from_dict(state_dict, orient='index')\n",
    "    stateDF.reset_index(inplace=True)\n",
    "    # stateDF = stateDF[[0,1,2]]\n",
    "    stateDF.rename(columns={'index': 'County', 0 :'# of Tweets',1:'score',2:'Time'}, inplace=True)\n",
    "    timeDF = pd.json_normalize(stateDF['Time'])\n",
    "    stateDF.drop('Time',axis = 1,inplace= True)\n",
    "    maxCount = timeDF[list(timeDF.filter(regex=('count')))].max().max()\n",
    "    for year in range(2006,currentYear+1):\n",
    "        year = str(year)\n",
    "        if(len(list(timeDF.filter(regex=year)))>0):\n",
    "            \n",
    "            slicetimeDF = timeDF[list(timeDF.filter(regex=('County|' + year+'.comp|' + year+'.count')))]\n",
    "            stateDF = pd.concat([stateDF['County'], slicetimeDF], axis=1)\n",
    "            stateDF.rename(columns= {stateDF.columns[1]:'# of Tweets',stateDF.columns[2]:'score'}, inplace=True)\n",
    "            json_folder = 'Keyword State'\n",
    "            file_dir = Path.cwd()\n",
    "            file_path = os.path.join(file_dir, json_folder, (((state) + \" on the term \" + keyword +'.json')))\n",
    "\n",
    "            # Okay turn the dictionary into a dataframe where one column is filled with keys, and the other column is the first value in the dictionary\n",
    "            f = open(file_path, 'r')\n",
    "            score = []\n",
    "            j=0\n",
    "\n",
    "            #-------------------------------------\n",
    "            #-------------------------------------\n",
    "            # AVERAGE SENT. AND TOTAL POP.\n",
    "            # get the sum of all values in a column\n",
    "            totalTweets = stateDF.iloc[:, 1].sum()\n",
    "            averageSentiment = 0\n",
    "            k=0\n",
    "            for score in stateDF['score']:\n",
    "                if(math.isnan(score)==False):\n",
    "                    # multiply all values in the score column by the corresponding value in the population column\n",
    "                    averageSentiment += score * stateDF.iat[k,1]\n",
    "                k+=1\n",
    "            averageSentiment=averageSentiment/totalTweets\n",
    "            yearList.append(int(year))\n",
    "\n",
    "            averageSentimentOverTime.append([averageSentiment,int(year)])\n",
    "    # averageSentimentOverTime = scaler.fit_transform(averageSentimentOverTime)\n",
    "    averageSentKeyword[keyword] = (averageSentimentOverTime)\n",
    "    \n",
    "    a, b = zip(*averageSentimentOverTime)\n",
    "\n",
    "    # plt.plot(b,a,label = keyword)\n",
    "\n",
    "# np.vstack(averageSentimentOverTime,yearList)\n",
    "\n",
    "plt.title('Texas Minority Sentiment')\n",
    "\n",
    "plt.legend()\n",
    "\n",
    "# print(list(averageSentKeyword.values())[0])\n",
    "# print(scaler.fit_transform(list(averageSentKeyword.values())[0]))\n",
    "SentimentYear = {}\n",
    "keys = averageSentKeyword.keys()\n",
    "\n",
    "for i in range(len(averageSentKeyword.values())):\n",
    "    # averageSentKeyword.values()[i]\n",
    "    sentiment, year = zip(*list(averageSentKeyword.values())[i])\n",
    "    for j in range(len(year)):\n",
    "        if year[j] in SentimentYear:\n",
    "            SentimentYear[year[j]].append(sentiment[j])\n",
    "        else:\n",
    "            SentimentYear[year[j]] = [sentiment[j]]\n",
    "            # Sentiment year is the sorted matrix which is passed through the normalizign function\n",
    "            # The columns are a measure of the given year\n",
    "            # The rows are the different keywords\n",
    "df = pd.DataFrame(SentimentYear,index=keys)\n",
    "normalizedSentiment =  scaler.fit_transform(list(SentimentYear.values()))\n",
    "NormalizedData =pd.DataFrame(normalizedSentiment,index=keys)\n",
    "remappedData = []\n",
    "print(len(NormalizedData.columns))\n",
    "print(NormalizedData)\n",
    "for i in range(len(NormalizedData.columns)):\n",
    "    print(i)\n",
    "    testData = NormalizedData[list(keys)[i]].values.tolist()\n",
    "    print(a)\n",
    "    # a = (zip(*testData))\n",
    "    a=list(a)\n",
    "    # a= np.column_stack((a,yearList)).tolist()\n",
    "    # Merge the list \"a\" and the liat 'yearList' as if they were two columns in a matrix\n",
    "    # \"a\" is a list of n-arrays (each array is a data row), \"yearList\" is a list of integers\n",
    "\n",
    "    remappedData.append(list(a))\n",
    "print(remappedData[3])\n",
    "for i in range(len(remappedData)):\n",
    "\n",
    "    plt.plot(yearList,remappedData[i],label = i)\n"
   ]
  }
 ],
 "metadata": {
  "interpreter": {
   "hash": "89075c8537ace93f0363b815cca8d9001f289457af7681290e2f56bc0246b22f"
  },
  "kernelspec": {
   "display_name": "Python 3.9.6 64-bit",
   "language": "python",
   "name": "python3"
  },
  "language_info": {
   "codemirror_mode": {
    "name": "ipython",
    "version": 3
   },
   "file_extension": ".py",
   "mimetype": "text/x-python",
   "name": "python",
   "nbconvert_exporter": "python",
   "pygments_lexer": "ipython3",
   "version": "3.9.6"
  },
  "orig_nbformat": 4
 },
 "nbformat": 4,
 "nbformat_minor": 2
}
